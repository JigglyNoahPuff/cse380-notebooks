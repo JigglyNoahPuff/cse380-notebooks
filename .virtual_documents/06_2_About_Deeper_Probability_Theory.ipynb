# Triangle Pattern
from math import gcd

def nCk(n, k):
  if k < 0 or k > n:
    return 0
  else:
    result = 1
    d = 1
    g = 1
    m = min(k, n - k)
    while (d <= m):
      g = gcd(result, d)
      result = n * (result // g)
      result = (result // (d // g))
      n -= 1
      d += 1
    return result

pT = []
rowsNum = 100
for i in range(rowsNum):
    tempString = ''
    for j in range(i + 1):
        temp = nCk(i, j)
        if temp % 2 == 1:
            tempString += '1'
        else:
            tempString += ' '
        if j < i:
            tempString += ' '
        #else:
        #    tempString += '\n'
    pT.append(tempString)

#tempString = tempString.center(200, '-')
#print(tempString)

for i in range(rowsNum):
    print((str(pT[i])).center(200))


def findNumOnes(n):
    '''Find number of ones in n row with rows starting at 1'''
    if n == 0:
        return 0
    return 2 ** ("{:b}".format(n - 1).count('1'))


def findOnesTriangle(n):
    '''Find number of ones in a pascals triangle with n rows starting at 1'''
    assert(n >= 0), 'Input should be greater than or equal to zero.'
    oneSum = 0
    for i in range(n + 1):
        oneSum += findNumOnes(i)
    return oneSum


# Testing output of the findNumOnes functions
findNumOnes(3)


# Testing output of the findOnesTriangle function
findOnesTriangle(32)
