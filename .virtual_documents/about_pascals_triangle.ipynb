from math import gcd

def nCk(n, k):
  if k < 0 or k > n:
    return 0
  else:
    result = 1
    d = 1
    g = 1
    m = min(k, n - k)
    while (d <= m):
      g = gcd(result, d)
      result = n * (result // g)
      result = (result // (d // g))
      n -= 1
      d += 1
    return result


pT = []
rowsNum = 20
for i in range(rowsNum):
    tempList = []
    for j in range(i + 1):
        tempList.append(nCk(i, j))
    pT.append(tempList)

for i in range(rowsNum):
    print(str(pT[i]).center(200))


print('Row 14: ' + str(pT[14]) + '\n')
print('nCk(14,4), nCk(14,5), and nCk(14,6) respectively and respectfully: ',
      end='')
print(str(nCk(14, 4)) + ',' + str(nCk(14, 5)) + ', ' + str(nCk(14, 6)) + '\n')
print('Fibonacci Proof: ', end='')
print(str(nCk(14, 4)) + ' + ' + str(nCk(14, 5)) + ' = ' + str(nCk(14, 6)) + '\n')
print('Ratio Proof:')
print('\t' + str(nCk(14, 4)) + ' = 1001 * 1')
print('\t' + str(nCk(14, 5)) + ' = 1001 * 2')
print('\t' + str(nCk(14, 6)) + ' = 1001 * 3')
