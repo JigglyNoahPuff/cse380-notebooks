#@markdown ## What is true about what I did?
#@markdown ### I had fun.
cb00 = True #@param {type:'boolean'}
#@markdown ### I learned something new.
cb01 = True #@param {type:'boolean'}
#@markdown ### I achieved something meaningful, or something I can build upon at a later time.
cb02 = True #@param {type:'boolean'}
#@markdown ### I watched the linked-to 3Blue1Brown video on Bayes' Theorem, and reported on the experience.
cb03 = True #@param {type:'boolean'}
#@markdown ## What is true about my report?
#@markdown ### I wrote a sufficient number of well-written sentences.
cb04 = True #@param {type:'boolean'}
#@markdown ### My report is free of mechanical infelicities.
cb05 = True #@param {type:'boolean'}
#@markdown ### I used Grammarly (or something better described in my report) to check for MIs.
cb06 = True #@param {type:'boolean'}
#@markdown ### I reported on any connections I found between these problems and something I already know. 
cb07 = True #@param {type:'boolean'}
#@markdown ### I reported who were and what contribution each of my collaborators made.
cb08 = True #@param {type:'boolean'}
#@markdown ## What is true about my answers?
#@markdown ### I got the right answer for the "Apply Bayes' Theorem" problem, and my report describes how I know it.
cb09 = False #@param {type:'boolean'}
#@markdown ### I got the right answer for the "Compute Four Leaves" problem, and my report describes how I know it.
cb10 = False #@param {type:'boolean'}
#@markdown ### I got the right answer for the "Apply Your Probability Knowledge" problem, and my report describes how I know it.
cb11 = False #@param {type:'boolean'}
#@markdown ### I got the right answer for the "Apply Bayes' Theorem Generalized" problem, and my report describes how I know it.
cb12 = False #@param {type:'boolean'}
#@markdown ### I got the right answer for the "Apply Bayes' Theorem Generalized With Different Priors" problem, and my report describes how I know it.
cb13 = True #@param {type:'boolean'}



points_for_what_I_did = [2.5]*4
points_for_my_report = [8]*5
points_for_my_answers = [10]*5
points = points_for_what_I_did + points_for_my_report + points_for_my_answers
# cb is short for checkbox
total = sum(map(lambda n, p: p if eval(f'cb{n:02}') else 0,
                range(len(points)), points))             
total


#@markdown ---
number_of_MIs_found = 0 #@param {type: 'slider', min: 0, max: 5}
#@markdown ---

