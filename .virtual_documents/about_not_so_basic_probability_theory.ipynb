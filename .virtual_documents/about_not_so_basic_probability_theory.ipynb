def compute_Eulers_famous_sum(max):
  return sum((1.0 / (n * n) for n in range(1, max + 1)))


print(list(map(compute_Eulers_famous_sum, range(1, 100))))


print(list(map(compute_Eulers_famous_sum, range(99997, 100000))))


from math import pi
(pi ** 2) / 6


from math import gcd

for power in range(1, 2): # change 2 to 3 then 4.
  max = 10 ** power
  total = 0
  for m in range(1, max + 1):
    for n in range(1, max + 1):
      total += 1 if gcd(m, n) == 1 else 0

total


from math import pi
6 / (pi ** 2)


# Some examples

print('Probability that a 5 is picked in a list of numbers 1 through 10 is : {}')


from scipy import special
import math

print(math.factorial(20))
print(special.binom(10, 10))
