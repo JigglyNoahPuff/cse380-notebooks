from math import gcd

def nCk(n, k):
  if k < 0 or k > n:
    return 0
  else:
    result = 1
    d = 1
    g = 1
    m = min(k, n - k)
    while (d <= m):
      g = gcd(result, d)
      result = n * (result // g)
      result = (result // (d // g))
      n -= 1
      d += 1
    return result

def center(string, n):
  pad = ' ' * ((n - len(string)) // 2)
  return pad + string + pad

def draw_pascals_triangle(num_rows, k_fn = str, n_fn = print):
  print('First', num_rows, "rows of Pascal's triangle:")
  for n in range(num_rows + 1):
    row = []
    for k in range(n + 1):
      row.append(k_fn(nCk(n, k)))
    n_fn(' '.join(row))



draw_pascals_triangle(10)


draw_pascals_triangle(10, str, lambda x: print(center(x, 75)))


draw_pascals_triangle(40)


draw_pascals_triangle(19, str, lambda x: print(center(x, 101)))


draw_pascals_triangle(32, lambda k:str(k % 2), lambda x: print(center(x, 75)))


draw_pascals_triangle(31, lambda k:'1' if k % 2 else ' ', lambda x: print(center(x, 75)))


n = 8
k = 2
print((n - 1) * 36 * 56, '=', 21 * n * 84)


from math import isqrt

def find_square_root_if_is_perfect_square(x):
    sr = isqrt(x)
    perfect = (x == sr * sr)
    return perfect and sr

def find_k(b, s):
    return (b + s) // 2 if (b - s) % 2 else (b - s) // 2

def find_fib_starting_at_row_n_col_k(max_n):
    for n in range(2, max_n + 1):
        b = 3 * n
        d = (b * b) - (4 * (n * n - b - 2))
        s = find_square_root_if_is_perfect_square(d)
        if s:
            print(f"{n:6} {find_k(b, s):5}")

find_fib_starting_at_row_n_col_k(1000000)
