{
 "cells": [
  {
   "cell_type": "markdown",
   "metadata": {
    "colab_type": "text",
    "id": "view-in-github"
   },
   "source": [
    "<a href=\"https://colab.research.google.com/github/byui-cse/cse380-notebooks/blob/master/08_1_About_Encryption_Resembling_Scrambling.ipynb\" target=\"_parent\"><img src=\"https://colab.research.google.com/assets/colab-badge.svg\" alt=\"Open In Colab\"/></a>"
   ]
  },
  {
   "cell_type": "markdown",
   "metadata": {},
   "source": [
    "<div style= \"border: thin solid; padding: 0px 20px 0px 20px\">\n",
    "    <div id=\"textbox\">\n",
    "        <b style= \"font-size: large\">CSE 380</b>\n",
    "        <b style= \"font-size: large\">Discrete Mathematics II</b>\n",
    "    </div>\n",
    "    <div>\n",
    "        <h1 style=\"text-align: center\">About Encryption Resembling Scrambling</h1>\n",
    "    </div>\n",
    "    <div id=\"textbox\">\n",
    "        <i style= \"font-size: large\">22 February 2021</i>\n",
    "        <i style= \"font-size: large\">Divide Pair Conquer</i>\n",
    "    </div>\n",
    "</div>"
   ]
  },
  {
   "cell_type": "markdown",
   "metadata": {
    "id": "3hueeHk5fHSq"
   },
   "source": [
    "### Due: Monday, 22 February 2021, 11:59 pm"
   ]
  },
  {
   "cell_type": "code",
   "execution_count": 1,
   "metadata": {
    "jupyter": {
     "source_hidden": true
    },
    "tags": [
     "hide-input"
    ]
   },
   "outputs": [
    {
     "name": "stdout",
     "output_type": "stream",
     "text": [
      "The assignment is due in -12.0 hours, 41.0 minutes, and 32.0 seconds.\n"
     ]
    }
   ],
   "source": [
    "import time, datetime\n",
    "now = datetime.datetime.now().replace(microsecond=0)\n",
    "due = datetime.datetime(2021, 2, 22, 23, 59, 59).replace(microsecond=0)\n",
    "timeTilDue = (due - now)\n",
    "print(f'The assignment is due in {timeTilDue.total_seconds() // 3600} hours, {timeTilDue.total_seconds() % 3600 // 60} minutes, and {timeTilDue.total_seconds() % 216000 % 60 % 60} seconds.')"
   ]
  },
  {
   "cell_type": "markdown",
   "metadata": {
    "id": "gSgt80RdwuCJ"
   },
   "source": [
    "## Introduction"
   ]
  },
  {
   "cell_type": "markdown",
   "metadata": {
    "id": "Qdv9SxTAwzAe"
   },
   "source": [
    "### Encryption is Like Scrambling"
   ]
  },
  {
   "cell_type": "markdown",
   "metadata": {
    "id": "33t5wnxNw8Qp"
   },
   "source": [
    "#### Perfect Shuffling"
   ]
  },
  {
   "cell_type": "code",
   "execution_count": 1,
   "metadata": {
    "id": "jcgt2qMEw-7e"
   },
   "outputs": [],
   "source": [
    "def shuffle(deck):\n",
    "  mid = len(deck) // 2\n",
    "  tuples = list(zip(deck[:mid], deck[mid:]))\n",
    "  return [i for sub in tuples for i in sub]\n",
    "\n",
    "deck0 = ['As', '2s', '3s', '4s', '5s', '6s', '7s', '8s', '9s', '10s', 'Js', 'Qs', 'Ks',\n",
    "         'Ah', '2h', '3h', '4h', '5h', '6h', '7h', '8h', '9h', '10h', 'Jh', 'Qh', 'Kh',\n",
    "         'Ac', '2c', '3c', '4c', '5c', '6c', '7c', '8c', '9c', '10c', 'Jc', 'Qc', 'Kc',\n",
    "         'Ad', '2d', '3d', '4d', '5d', '6d', '7d', '8d', '9d', '10d', 'Jd', 'Qd', 'Kd']\n",
    "\n",
    "deck1 = shuffle(deck0)\n",
    "deck2 = shuffle(deck1)\n",
    "deck3 = shuffle(deck2)\n",
    "deck4 = shuffle(deck3)\n",
    "deck5 = shuffle(deck4)\n",
    "deck6 = shuffle(deck5)\n",
    "deck7 = shuffle(deck6)\n",
    "deck8 = shuffle(deck7)"
   ]
  },
  {
   "cell_type": "code",
   "execution_count": 2,
   "metadata": {
    "id": "adz3z9-7xH-S"
   },
   "outputs": [
    {
     "data": {
      "text/plain": [
       "True"
      ]
     },
     "execution_count": 2,
     "metadata": {},
     "output_type": "execute_result"
    }
   ],
   "source": [
    "deck0 == deck8"
   ]
  },
  {
   "cell_type": "code",
   "execution_count": 4,
   "metadata": {
    "id": "LpbepDCuyUnw"
   },
   "outputs": [
    {
     "name": "stdout",
     "output_type": "stream",
     "text": [
      "['As', '9s', '4h', 'Qh', '7c', '2d', '10d', '6s', 'Ah', '9h', '4c', 'Qc', '7d', '3s', 'Js', '6h', 'Ac', '9c', '4d', 'Qd', '8s', '3h', 'Jh', '6c', 'Ad', '9d', '5s', 'Ks', '8h', '3c', 'Jc', '6d', '2s', '10s', '5h', 'Kh', '8c', '3d', 'Jd', '7s', '2h', '10h', '5c', 'Kc', '8d', '4s', 'Qs', '7h', '2c', '10c', '5d', 'Kd']\n"
     ]
    }
   ],
   "source": [
    "print(deck5)"
   ]
  },
  {
   "cell_type": "markdown",
   "metadata": {
    "id": "7FK5C1j5x48S"
   },
   "source": [
    "### What is the PCS Cryptosystem?\n",
    "(Perfect Card Shuffling)\n",
    "\n",
    "1. Get a new deck of cards.\n",
    "2. Choose a number, say 5 (this is your encryption key).\n",
    "3. Write a message, one character per card on your original deck.\n",
    "4. Perfect shuffle the deck 5 times.\n",
    "5. Send the shuffled deck to your friend.\n",
    "6. Your friend does (8 - 5 = 3) perfect shuffles to get the original order back."
   ]
  },
  {
   "cell_type": "markdown",
   "metadata": {
    "id": "UwvpbU4Lwzva"
   },
   "source": [
    "### How Does RSA Scramble?"
   ]
  },
  {
   "cell_type": "markdown",
   "metadata": {
    "id": "u_L0a4HyxZG6"
   },
   "source": [
    "Look at how RSA encryption shuffles/scrambles numbers (say the number 10) with some (very) small primes (say 2 and 11) and the smallest possible encryption exponent (3)."
   ]
  },
  {
   "cell_type": "code",
   "execution_count": 10,
   "metadata": {
    "id": "5bu0pHFPxUKj"
   },
   "outputs": [
    {
     "data": {
      "text/plain": [
       "1000"
      ]
     },
     "execution_count": 10,
     "metadata": {},
     "output_type": "execute_result"
    }
   ],
   "source": [
    "pow(10, 3, 2048)"
   ]
  },
  {
   "cell_type": "markdown",
   "metadata": {
    "id": "FNhZGKBIxz8a"
   },
   "source": [
    "### Alternatively"
   ]
  },
  {
   "cell_type": "markdown",
   "metadata": {
    "id": "RYDJF01vx3Q3"
   },
   "source": [
    "What about with 3 and 11?"
   ]
  },
  {
   "cell_type": "code",
   "execution_count": 14,
   "metadata": {
    "id": "b9GLFPRWx6pP"
   },
   "outputs": [
    {
     "data": {
      "text/plain": [
       "8"
      ]
     },
     "execution_count": 14,
     "metadata": {},
     "output_type": "execute_result"
    }
   ],
   "source": [
    "pow(10, 3, 31)"
   ]
  },
  {
   "cell_type": "markdown",
   "metadata": {
    "id": "4wxQamU-yACz"
   },
   "source": [
    "### Save Typing"
   ]
  },
  {
   "cell_type": "code",
   "execution_count": 15,
   "metadata": {
    "collapsed": true,
    "id": "mqsYWl5CyCCa",
    "jupyter": {
     "outputs_hidden": true
    }
   },
   "outputs": [
    {
     "name": "stdout",
     "output_type": "stream",
     "text": [
      "0 0 True\n",
      "1 1 True\n",
      "2 8 False\n",
      "3 5 False\n",
      "4 20 False\n",
      "5 15 False\n",
      "6 18 False\n",
      "7 13 False\n",
      "8 6 False\n",
      "9 3 False\n",
      "10 10 True\n",
      "11 11 True\n",
      "12 12 True\n",
      "13 19 False\n",
      "14 16 False\n",
      "15 9 False\n",
      "16 4 False\n",
      "17 7 False\n",
      "18 2 False\n",
      "19 17 False\n",
      "20 14 False\n",
      "21 21 True\n"
     ]
    }
   ],
   "source": [
    "for m in range(22):\n",
    "  c = pow(m, 3, 22)\n",
    "  print(m, c, m == c)"
   ]
  },
  {
   "cell_type": "code",
   "execution_count": 16,
   "metadata": {
    "collapsed": true,
    "id": "NtH0zIouyRrG",
    "jupyter": {
     "outputs_hidden": true
    }
   },
   "outputs": [
    {
     "name": "stdout",
     "output_type": "stream",
     "text": [
      "0 0 True\n",
      "1 1 True\n",
      "2 8 False\n",
      "3 27 False\n",
      "4 31 False\n",
      "5 26 False\n",
      "6 18 False\n",
      "7 13 False\n",
      "8 17 False\n",
      "9 3 False\n",
      "10 10 True\n",
      "11 11 True\n",
      "12 12 True\n",
      "13 19 False\n",
      "14 5 False\n",
      "15 9 False\n",
      "16 4 False\n",
      "17 29 False\n",
      "18 24 False\n",
      "19 28 False\n",
      "20 14 False\n",
      "21 21 True\n",
      "22 22 True\n",
      "23 23 True\n",
      "24 30 False\n",
      "25 16 False\n",
      "26 20 False\n",
      "27 15 False\n",
      "28 7 False\n",
      "29 2 False\n",
      "30 6 False\n",
      "31 25 False\n",
      "32 32 True\n"
     ]
    }
   ],
   "source": [
    "for m in range(33):\n",
    "  c = pow(m, 3, 33)\n",
    "  print(m, c, m == c)"
   ]
  },
  {
   "cell_type": "markdown",
   "metadata": {
    "id": "P4XjVdpbyVO6"
   },
   "source": [
    "### Tabulate"
   ]
  },
  {
   "cell_type": "markdown",
   "metadata": {
    "id": "6bgQTBzSyYLV"
   },
   "source": [
    "Count how many scramblings are **not** derangements."
   ]
  },
  {
   "cell_type": "markdown",
   "metadata": {
    "id": "AXZC_waAyfWn"
   },
   "source": [
    "#### Definition"
   ]
  },
  {
   "cell_type": "markdown",
   "metadata": {
    "id": "LHLY0n3Ayg-g"
   },
   "source": [
    "A *derangement* is a permutation where no element is left in its original position."
   ]
  },
  {
   "cell_type": "code",
   "execution_count": 17,
   "metadata": {
    "id": "ZHJpGswbypA_"
   },
   "outputs": [
    {
     "name": "stdout",
     "output_type": "stream",
     "text": [
      "| p | q | n | t | e | # |/| n |=|   %  |\n",
      "|---|---|---|---|---|---|-|---|-|------|\n",
      "|2|3|6|2|3|6|/|6|=|100.00|\n",
      "|2|5|10|4|3|6|/|10|=|60.00|\n",
      "|2|7|14|6|5|6|/|14|=|42.86|\n",
      "|2|11|22|10|3|6|/|22|=|27.27|\n",
      "|2|13|26|12|5|10|/|26|=|38.46|\n",
      "|2|17|34|16|3|6|/|34|=|17.65|\n",
      "|2|19|38|18|5|6|/|38|=|15.79|\n",
      "|3|5|15|8|3|9|/|15|=|60.00|\n",
      "|3|7|21|12|5|9|/|21|=|42.86|\n",
      "|3|11|33|20|3|9|/|33|=|27.27|\n",
      "|3|13|39|24|5|15|/|39|=|38.46|\n",
      "|3|17|51|32|3|9|/|51|=|17.65|\n",
      "|3|19|57|36|5|9|/|57|=|15.79|\n",
      "|5|7|35|24|5|15|/|35|=|42.86|\n",
      "|5|11|55|40|3|9|/|55|=|16.36|\n",
      "|5|13|65|48|5|25|/|65|=|38.46|\n",
      "|5|17|85|64|3|9|/|85|=|10.59|\n",
      "|5|19|95|72|5|15|/|95|=|15.79|\n",
      "|7|11|77|60|7|21|/|77|=|27.27|\n",
      "|7|13|91|72|5|15|/|91|=|16.48|\n",
      "|7|17|119|96|5|15|/|119|=|12.61|\n",
      "|7|19|133|108|5|9|/|133|=|6.77|\n",
      "|11|13|143|120|7|21|/|143|=|14.69|\n",
      "|11|17|187|160|3|9|/|187|=|4.81|\n",
      "|11|19|209|180|7|21|/|209|=|10.05|\n",
      "|13|17|221|192|5|25|/|221|=|11.31|\n",
      "|13|19|247|216|5|15|/|247|=|6.07|\n",
      "|17|19|323|288|5|15|/|323|=|4.64|\n"
     ]
    }
   ],
   "source": [
    "from math import gcd\n",
    "from sympy import prime\n",
    "\n",
    "def find_first_e(n, t):\n",
    "  for e in range(3, n):\n",
    "    if gcd(e, t) == 1:\n",
    "      return e\n",
    "  return None\n",
    "\n",
    "headers = '| p | q | n | t | e | # |/| n |=|   %  |\\n'\\\n",
    "          '|---|---|---|---|---|---|-|---|-|------|'\n",
    "\n",
    "print(headers)\n",
    "\n",
    "for i in range(1, 9):\n",
    "  for j in range(i + 1, 9):\n",
    "    p, q = prime(i), prime(j)\n",
    "    n = p * q\n",
    "    t = (p - 1) * (q - 1)\n",
    "    e = find_first_e(n, t)\n",
    "    num = sum(map(lambda m: m == pow(m, e, n), range(0, n)))\n",
    "    print(f'|{p}|{q}|{n}|{t}|{e}|{num}|/|{n}|=|{num/n/.01:.2f}|')"
   ]
  },
  {
   "cell_type": "markdown",
   "metadata": {
    "id": "Wc7xgPsR0nGU"
   },
   "source": [
    "## Your DPC Tasks"
   ]
  },
  {
   "cell_type": "markdown",
   "metadata": {
    "id": "kkhscGNe0uBe"
   },
   "source": [
    "### TODO Investigate"
   ]
  },
  {
   "cell_type": "markdown",
   "metadata": {
    "id": "QRnG8WwI0xce"
   },
   "source": [
    "Why is 65537 ($2^{16} + 1$) typically used as **e**, the encryption exponent?"
   ]
  },
  {
   "cell_type": "code",
   "execution_count": 18,
   "metadata": {
    "id": "CVHEKvBr1BDk"
   },
   "outputs": [
    {
     "data": {
      "text/plain": [
       "(65537, '0b10000000000000001')"
      ]
     },
     "execution_count": 18,
     "metadata": {},
     "output_type": "execute_result"
    }
   ],
   "source": [
    "e = 2 ** 16 + 1\n",
    "(e, bin(e))"
   ]
  },
  {
   "cell_type": "markdown",
   "metadata": {},
   "source": [
    "It is a very large prime that is easy to compute. Also it raising something to the 65537 power consists mostly of squarings."
   ]
  },
  {
   "cell_type": "markdown",
   "metadata": {
    "id": "EIGjniwq09De"
   },
   "source": [
    "### TODO Explore"
   ]
  },
  {
   "cell_type": "markdown",
   "metadata": {
    "id": "acs-QjkD1PP6"
   },
   "source": [
    "The book gives some very vague constraints on **p** and **q**, the two primes used in RSA.\n",
    "\n",
    "Research the criteria the security community uses to judge the goodness (suitability) of these two primes, that in practice are randomly chosen.\n",
    "\n",
    "What is bad about the choice of **p** and **q** in this next cell?"
   ]
  },
  {
   "cell_type": "code",
   "execution_count": null,
   "metadata": {
    "id": "K1CkvoOi1hIB"
   },
   "outputs": [],
   "source": [
    "p = 5179195214309\n",
    "q = 5179195214311\n",
    "n = p * q\n",
    "t = (p - 1) * (q - 1)\n",
    "e = 65537\n",
    "d = 17826498662743824930707633\n",
    "m = 5179195214304\n",
    "c = pow(m, e, n)\n",
    "m_again = pow(c, d, n)\n",
    "(c, m_again, m == m_again)"
   ]
  },
  {
   "cell_type": "code",
   "execution_count": 20,
   "metadata": {},
   "outputs": [
    {
     "ename": "KeyboardInterrupt",
     "evalue": "",
     "output_type": "error",
     "traceback": [
      "\u001b[1;31m---------------------------------------------------------------------------\u001b[0m",
      "\u001b[1;31mKeyboardInterrupt\u001b[0m                         Traceback (most recent call last)",
      "\u001b[1;32m<ipython-input-20-5eb267ddb887>\u001b[0m in \u001b[0;36m<module>\u001b[1;34m\u001b[0m\n\u001b[0;32m      9\u001b[0m     \u001b[1;32mreturn\u001b[0m \u001b[0mfactorList\u001b[0m\u001b[1;33m\u001b[0m\u001b[1;33m\u001b[0m\u001b[0m\n\u001b[0;32m     10\u001b[0m \u001b[1;33m\u001b[0m\u001b[0m\n\u001b[1;32m---> 11\u001b[1;33m \u001b[0mfindFactors\u001b[0m\u001b[1;33m(\u001b[0m\u001b[1;36m5179195214308\u001b[0m\u001b[1;33m)\u001b[0m\u001b[1;33m\u001b[0m\u001b[1;33m\u001b[0m\u001b[0m\n\u001b[0m",
      "\u001b[1;32m<ipython-input-20-5eb267ddb887>\u001b[0m in \u001b[0;36mfindFactors\u001b[1;34m(num)\u001b[0m\n\u001b[0;32m      2\u001b[0m \u001b[1;32mdef\u001b[0m \u001b[0mfindFactors\u001b[0m\u001b[1;33m(\u001b[0m\u001b[0mnum\u001b[0m\u001b[1;33m)\u001b[0m\u001b[1;33m:\u001b[0m\u001b[1;33m\u001b[0m\u001b[1;33m\u001b[0m\u001b[0m\n\u001b[0;32m      3\u001b[0m     \u001b[0mfactorList\u001b[0m \u001b[1;33m=\u001b[0m \u001b[1;33m[\u001b[0m\u001b[1;33m]\u001b[0m\u001b[1;33m\u001b[0m\u001b[1;33m\u001b[0m\u001b[0m\n\u001b[1;32m----> 4\u001b[1;33m     \u001b[1;32mfor\u001b[0m \u001b[0mi\u001b[0m \u001b[1;32min\u001b[0m \u001b[0mrange\u001b[0m\u001b[1;33m(\u001b[0m\u001b[1;36m1\u001b[0m\u001b[1;33m,\u001b[0m \u001b[0mmath\u001b[0m\u001b[1;33m.\u001b[0m\u001b[0mceil\u001b[0m\u001b[1;33m(\u001b[0m\u001b[0mnum\u001b[0m \u001b[1;33m/\u001b[0m \u001b[1;36m2\u001b[0m\u001b[1;33m)\u001b[0m \u001b[1;33m+\u001b[0m \u001b[1;36m1\u001b[0m\u001b[1;33m)\u001b[0m\u001b[1;33m:\u001b[0m\u001b[1;33m\u001b[0m\u001b[1;33m\u001b[0m\u001b[0m\n\u001b[0m\u001b[0;32m      5\u001b[0m         \u001b[1;32mif\u001b[0m \u001b[0mnum\u001b[0m \u001b[1;33m%\u001b[0m \u001b[0mi\u001b[0m \u001b[1;33m==\u001b[0m \u001b[1;36m0\u001b[0m\u001b[1;33m:\u001b[0m\u001b[1;33m\u001b[0m\u001b[1;33m\u001b[0m\u001b[0m\n\u001b[0;32m      6\u001b[0m             \u001b[0mfactorList\u001b[0m\u001b[1;33m.\u001b[0m\u001b[0mappend\u001b[0m\u001b[1;33m(\u001b[0m\u001b[0mi\u001b[0m\u001b[1;33m)\u001b[0m\u001b[1;33m\u001b[0m\u001b[1;33m\u001b[0m\u001b[0m\n",
      "\u001b[1;31mKeyboardInterrupt\u001b[0m: "
     ]
    }
   ],
   "source": [
    "import math\n",
    "def findFactors(num):\n",
    "    factorList = []\n",
    "    for i in range(1, math.ceil(num / 2) + 1):\n",
    "        if num % i == 0:\n",
    "            factorList.append(i)\n",
    "    factorList.append(num)\n",
    "\n",
    "    return factorList\n",
    "\n",
    "findFactors(5179195214308)"
   ]
  },
  {
   "cell_type": "markdown",
   "metadata": {},
   "source": [
    "Because p + 1 is the same as q - 1, the largest prime factor of p + 1 and q - 1 is the same.\n",
    "<a href='https://people.csail.mit.edu/rivest/pubs/RS01.version-1999-11-22.pdf'><img src=\"https://www.zelda.com/links-awakening/assets/img/home/hero-char.png\" alt=\"Link\" style=\"width:64px;height:64px\" ><a>"
   ]
  },
  {
   "cell_type": "markdown",
   "metadata": {
    "id": "OCGpVDCv141v"
   },
   "source": [
    "### Bonus"
   ]
  },
  {
   "cell_type": "markdown",
   "metadata": {
    "id": "F8zaiIcQ16F3"
   },
   "source": [
    "From Wikipedia:\n",
    "\n",
    "\n",
    "\n",
    "> The earliest known statement of the [Chinese Remainder Theorem], as a problem with specific numbers, appears in the 3rd-century book *Sun-tzu Suan-ching* by the Chinese mathematician Sun-tzu:\n",
    "\n",
    "> There are certain things whose number is unknown. If we count them by threes,we have two left over; by fives, we have three left over; and by sevens, two are left over. How many things are there?\n",
    "\n",
    "\n"
   ]
  },
  {
   "cell_type": "markdown",
   "metadata": {},
   "source": [
    "### Using Markdown as my pencil and paper\n",
    "  \n",
    "$7i + 2 = x$  \n",
    "$7i + 2 \\equiv 3 (mod 5)$  \n",
    "$i \\equiv 3 (mod 5)$  \n",
    "$i \\equiv 5j + 3$  \n",
    "$5j + 3 \\equiv 2 (mod 3)$  \n",
    "$j \\equiv 2 (mod 3)$  \n",
    "$j \\equiv 3k$  \n",
    "$7(5j + 3) = x$  \n",
    "$7(5(3k) + 3) + 2 = x$  \n",
    "$7(15k) + 3 + 2 = x$  \n",
    "$105k + 21 + 2 = x$  \n",
    "$105k + 23 = x$  \n",
    "  \n",
    "$x = 23 (mod 105)$"
   ]
  },
  {
   "cell_type": "code",
   "execution_count": 12,
   "metadata": {},
   "outputs": [
    {
     "name": "stdout",
     "output_type": "stream",
     "text": [
      "(105k + 23) % 3 = 2\n",
      "(105k + 23) % 5 = 3\n",
      "(105k + 23) % 7 = 2\n"
     ]
    }
   ],
   "source": [
    "print('(105k + 23) % 3 =', (105 + 23) % 3)\n",
    "print('(105k + 23) % 5 =', (105 + 23) % 5)\n",
    "print('(105k + 23) % 7 =', (105 + 23) % 7)"
   ]
  },
  {
   "cell_type": "markdown",
   "metadata": {
    "id": "UQGbqaRl2M8D"
   },
   "source": [
    "Can you solve this by hand?\n",
    "  \n",
    "That is, with just pencil and paper?"
   ]
  },
  {
   "cell_type": "markdown",
   "metadata": {
    "id": "qjkhcHRi2Vg8"
   },
   "source": [
    "How about this one?\n",
    "\n",
    "Find all solutions, if any, to the system of congruences:\n",
    "\n",
    "$x \\equiv_{6} 5$\n",
    "\n",
    "$x \\equiv_{10} 3$\n",
    "\n",
    "$x \\equiv_{15} 8$\n"
   ]
  },
  {
   "cell_type": "markdown",
   "metadata": {
    "id": "cPtcNhGG2Yt5"
   },
   "source": [
    "Challenge yourselves to figure this out without using a computer.\n",
    "\n",
    "(You can use a calculator, but not its programmability, if it has it!)"
   ]
  },
  {
   "cell_type": "markdown",
   "metadata": {
    "id": "AwQuIgw35KrD"
   },
   "source": [
    "#### Hint"
   ]
  },
  {
   "cell_type": "markdown",
   "metadata": {
    "id": "9QqSobla5MWE"
   },
   "source": [
    "You cannot apply the Chinese Remainder Theorem directly, because the moduli are not pairwise coprime. Try using that consequence of the CRT that you used last week to translate these congruences into a set of congruences that together are equivalent to the given ones."
   ]
  },
  {
   "cell_type": "markdown",
   "metadata": {},
   "source": [
    "$x = 6i + 5$  \n",
    "$6i + 5 \\equiv 3 (mod 10)$  \n",
    "$i = 10j + 3$  \n",
    "$10j + 3 \\equiv 8 (mod 15)$  \n",
    "$k = 15k$  \n",
    "$x = 6(10j + 3) + 5$  \n",
    "$x = 60j + 18 + 5$  \n",
    "$x = 60(15k) + 23$  \n",
    "$x = 900k + 23$  "
   ]
  },
  {
   "cell_type": "code",
   "execution_count": 11,
   "metadata": {},
   "outputs": [
    {
     "name": "stdout",
     "output_type": "stream",
     "text": [
      "(900k + 23) % 6 = 5\n",
      "(900k + 23) % 10 = 3\n",
      "(900k + 23) % 15 = 8\n"
     ]
    }
   ],
   "source": [
    "print('(900k + 23) % 6 =', (900 + 23) % 6)\n",
    "print('(900k + 23) % 10 =', (900 + 23) % 10)\n",
    "print('(900k + 23) % 15 =', (900 + 23) % 15)"
   ]
  }
 ],
 "metadata": {
  "colab": {
   "authorship_tag": "ABX9TyMNX3RDHlItJfzcnWmcXElC",
   "include_colab_link": true,
   "name": "08_1_About_Encryption_Resembling_Scrambling.ipynb",
   "provenance": []
  },
  "kernelspec": {
   "display_name": "Python 3",
   "language": "python",
   "name": "python3"
  },
  "language_info": {
   "codemirror_mode": {
    "name": "ipython",
    "version": 3
   },
   "file_extension": ".py",
   "mimetype": "text/x-python",
   "name": "python",
   "nbconvert_exporter": "python",
   "pygments_lexer": "ipython3",
   "version": "3.8.7"
  }
 },
 "nbformat": 4,
 "nbformat_minor": 4
}
