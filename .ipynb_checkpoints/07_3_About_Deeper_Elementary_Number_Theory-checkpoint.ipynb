{
 "cells": [
  {
   "cell_type": "markdown",
   "metadata": {
    "colab_type": "text",
    "id": "view-in-github"
   },
   "source": [
    "<a href=\"https://colab.research.google.com/github/byui-cse/cse380-notebooks/blob/master/07_3_About_Deeper_Elementary_Number_Theory.ipynb\" target=\"_parent\"><img src=\"https://colab.research.google.com/assets/colab-badge.svg\" alt=\"Open In Colab\"/></a>"
   ]
  },
  {
   "cell_type": "code",
   "execution_count": 2,
   "metadata": {
    "jupyter": {
     "source_hidden": true
    },
    "tags": [
     "hide-input"
    ]
   },
   "outputs": [],
   "source": [
    "from IPython.display import Math, HTML, display\n",
    "\n",
    "def set_css_in_cell_output():\n",
    "    display(HTML(\"\"\"\n",
    "                <style>\n",
    "                #textbox {\n",
    "                        display: flex;\n",
    "                        justify-content: space-between;\n",
    "                        }\n",
    "                </style>\n",
    "                \"\"\"))\n",
    "\n",
    "get_ipython().events.register('pre_run_cell', set_css_in_cell_output)\n",
    "\n",
    "import time, datetime\n",
    "now = datetime.datetime.now().replace(microsecond=0)\n",
    "due = datetime.datetime(2021, 2, 17, 23, 59, 59).replace(microsecond=0)\n",
    "timeTilDue = (due - now)"
   ]
  },
  {
   "cell_type": "markdown",
   "metadata": {},
   "source": [
    "<div style= \"border: thin solid; padding: 0px 20px 0px 20px\">\n",
    "    <div id=\"textbox\">\n",
    "        <b style= \"font-size: large\">CSE 380</b>\n",
    "        <b style= \"font-size: large\">Discrete Mathematics</b>\n",
    "    </div>\n",
    "    <div>\n",
    "        <h1 style=\"text-align: center\">About Deeper Elementary Number Theory</h1>\n",
    "    </div>\n",
    "    <div id=\"textbox\">\n",
    "        <i style= \"font-size: large\">17 February 2021</i>\n",
    "        <i style= \"font-size: large\">Class Directed Learning</i>\n",
    "    </div>\n",
    "</div>"
   ]
  },
  {
   "cell_type": "markdown",
   "metadata": {},
   "source": [
    "<b style=\"font-size: Large\">Link to Original PDF: </b>\n",
    "<a href =\"https://byui-cse.github.io/cse380-course/about-deeper-elementary-number-theory.pdf\">\n",
    "    <img src=\"https://www.zelda.com/links-awakening/assets/img/home/hero-char.png\" alt=\"Link\" style=\"width:64px;height:64px\" >\n",
    "    Or click here.\n",
    "</a>\n",
    "### Due: Wednesday, 17 February 2021, 11:59 pm"
   ]
  },
  {
   "cell_type": "code",
   "execution_count": 3,
   "metadata": {
    "jupyter": {
     "source_hidden": true
    },
    "tags": [
     "hide-input"
    ]
   },
   "outputs": [
    {
     "data": {
      "text/html": [
       "\n",
       "                <style>\n",
       "                #textbox {\n",
       "                        display: flex;\n",
       "                        justify-content: space-between;\n",
       "                        }\n",
       "                </style>\n",
       "                "
      ],
      "text/plain": [
       "<IPython.core.display.HTML object>"
      ]
     },
     "metadata": {},
     "output_type": "display_data"
    },
    {
     "name": "stdout",
     "output_type": "stream",
     "text": [
      "The assignment is due in 5.0 hours, 52.0 minutes, and 15.0 seconds.\n"
     ]
    }
   ],
   "source": [
    "print(f'The assignment is due in {timeTilDue.total_seconds() // 3600} hours, {timeTilDue.total_seconds() % 3600 // 60} minutes, and {timeTilDue.total_seconds() % 216000 % 60 % 60} seconds.')"
   ]
  },
  {
   "cell_type": "markdown",
   "metadata": {},
   "source": [
    "# The Fundamental Theorem of Arithmetic  \n",
    "  \n",
    "Let $P =$ the set of prime numbers, $N =$ the set of natural (nonnegative) numbers, and $Z^+ =$ the set of positive integers. If $L^+(P, N)$ is the set of functions $f : P \\rightarrow N$ with the property that  \n",
    "<center>$\\large \\exists n\\ \\in\\ N\\ \\ \\forall p\\ \\in\\ P\\ [p\\ \\geq\\ n\\ \\Rightarrow\\ f(p) = 0],$</center>  \n",
    "<br><br>\n",
    "then there exists a bijection $Z^+ \\rightarrow L^+(P, N)$ such that if $z \\rightarrow f$ then  \n",
    "<br><br>\n",
    "<center>$\\large z = \\prod\\limits_{p \\in P} p^{f(p)}$<\\center>\n",
    "<br><br><br>"
   ]
  },
  {
   "cell_type": "markdown",
   "metadata": {},
   "source": [
    "According to the Fundamental Theorem of Arithmetic, each positive integer n can be expressed in the form  \n",
    "<br>\n",
    "<center>$n = 2^{e_2}3^{e_3}5^{e_5}7^{e_7}11^{e_{11}} ... =\\ \\large z = \\prod\\limits_{p\\ \\textbf{prime}} p^{e_p}$,</center>  \n",
    "<br>\n",
    "where the exponents e2, e3, . . . are uniquely determined nonnegative integers, and where allbut a finite number of the exponents are zero.  \n",
    "<br>\n",
    "<br>\n",
    "<br>\n",
    "— Donald Knuth, writing with $\\textbf{clarity}$ what the previous page is trying to say."
   ]
  },
  {
   "cell_type": "markdown",
   "metadata": {},
   "source": [
    "## TODO Explore Fermat’s Little Theorem Further\n",
    "#### Answer to Yesterday’s DPC\n",
    "<div id=\"textbox\">\n",
    "        <span>0</span>\n",
    "        <span>1</span>\n",
    "        <span></span>\n",
    "</div>\n",
    "<div id=\"textbox\">\n",
    "        <span>1</span>\n",
    "        <span>1 1</span>\n",
    "        <span></span>\n",
    "</div>\n",
    "<div id=\"textbox\">\n",
    "        <span><b>2</b></span>\n",
    "        <span>1 <b>2</b> 1</span>\n",
    "        <span></span>\n",
    "</div>\n",
    "<div id=\"textbox\">\n",
    "        <span><b>3</b></span>\n",
    "        <span>1 <b>3 3</b> 1</span>\n",
    "        <span></span>\n",
    "</div>\n",
    "<div id=\"textbox\">\n",
    "        <span>4</span>\n",
    "        <span>1 4 6 4 1</span>\n",
    "        <span></span>\n",
    "</div>\n",
    "<div id=\"textbox\">\n",
    "        <span><b>5</b></span>\n",
    "        <span>1 <b>5 10 10 5</b> 1</span>\n",
    "        <span></span>\n",
    "</div>\n",
    "<div id=\"textbox\">\n",
    "        <span>6</span>\n",
    "        <span>1 6 15 20 15 6 1</span>\n",
    "        <span></span>\n",
    "</div>\n",
    "<div id=\"textbox\">\n",
    "        <span><b>7</b></span>\n",
    "        <span>1 <b>7 21 35 35 21 7</b> 1</span>\n",
    "        <span></span>\n",
    "</div>\n",
    "<div id=\"textbox\">\n",
    "        <span>8</span>\n",
    "        <span>1 8 28 56 70 56 28 8 1</span>\n",
    "        <span></span>\n",
    "</div>\n",
    "<div id=\"textbox\">\n",
    "        <span>9</span>\n",
    "        <span>1 9 36 84 126 126 84 36 9 1</span>\n",
    "        <span></span>\n",
    "</div>\n",
    "<div id=\"textbox\">\n",
    "        <span>10</span>\n",
    "        <span>1 10 45 120 210 252 210 120 45 10 1</span>\n",
    "        <span></span>\n",
    "</div>\n",
    "<div id=\"textbox\">\n",
    "        <span><b>11</b></span>\n",
    "        <span>1 <b>11 55 165 330 462 462 330 165 55 11</b> 1</span>\n",
    "        <span></span>\n",
    "</div>\n",
    "<div id=\"textbox\">\n",
    "        <span>12</span>\n",
    "        <span>1 12 66 220 495 792 924 792 495 220 66 12 1</span>\n",
    "        <span></span>\n",
    "</div>\n",
    "<div id=\"textbox\">\n",
    "        <span><b>13</b></span>\n",
    "        <span>1 <b>13 78 286 715 1287 1716 1716 1287 715 286 78 13</b> 1</span>\n",
    "        <span></span>\n",
    "</div>\n",
    "<div id=\"textbox\">\n",
    "        <span>14</span>\n",
    "        <span>1 14 91 364 1001 2002 3003 3432 3003 2002 1001 364 91 14 1</span>\n",
    "        <span></span>\n",
    "</div>\n",
    "<div id=\"textbox\">\n",
    "        <span>15</span>\n",
    "        <span>1 15 105 455 1365 3003 5005 6435 6435 5005 3003 1365 455 105 15 1</span>\n",
    "        <span></span>\n",
    "</div>\n",
    "<div id=\"textbox\">\n",
    "        <span>16</span>\n",
    "        <span>1 16 120 560 1820 4368 8008 11440 12870 11440 8008 4368 1820 560 120 16 1</span>\n",
    "        <span></span>\n",
    "</div>\n",
    "<div id=\"textbox\">\n",
    "        <span><b>17</b></span>\n",
    "        <span>1 <b>17 136 680 2380 6188 12376 19448 24310 24310 19448 12376 6188 2380 680 136 17</b> 1</span>\n",
    "        <span></span>\n",
    "</div>"
   ]
  },
  {
   "cell_type": "markdown",
   "metadata": {},
   "source": [
    "Step number 7 in the $FLT$ proof by induction is the answer — only prime-numbered rows in Pascal’s triangle show the pattern. The step is correctly rendered as:\n",
    "<center>\n",
    "    In terms of division by $N$, the $\\binom{N}{K}$\n",
    "terms can’t matter, since, except for the first\n",
    "and last 1’s in each row — $\\binom{N}{0}$ and $\\binom{N}{N}$ — N divides $\\binom{N}{K}$ <b>when</b> N is <b>prime</b>.\n",
    "</center>"
   ]
  },
  {
   "cell_type": "markdown",
   "metadata": {},
   "source": [
    "## Explore Another Proof\n",
    "Here is another proof of Fermat’s Little Theorem:  \n",
    "1. Suppose we have beads in $X$ different colors, and we wish to make bracelets using exactly $N$ beads.    \n",
    "2. First we put $N$ beads on a string.  \n",
    "3. Since each of the beads can be chosen in $X$ ways, by the product rule there are $X^N$ possible strings.  \n",
    "4. For each of the $X$ colors, there is one string entirely of that color, which we throw away, leaving $X^N - X$ strings.  \n",
    "5. We join the two ends of each of these remaining strings to form bracelets.  \n",
    "6. We observe that if two strings differ only by a cyclic permutation of the beads, the resulting bracelets will be indistinguishable.  \n",
    "7. There are $N$ cyclic permutations of the $N$ beads on a string.  \n",
    "8. Therefore the number of distinguishable bracelets is $\\frac{(X^N -\n",
    "X)}{N}$.  \n",
    "9. Therefore $\\frac{(X^N - X)}{N}$ must be an integer.  \n",
    "10. Therefore $X^N - X$ is divisible by $N$.  \n",
    "11. $Q.E.D.$  \n",
    "  \n",
    "The hypothesis ($N$ is prime) is implicitly used in one step of this proof. In other words, if “Blah” is what the step says, to be complete it should say “Blah, since $N$ is prime.” Which step is it?  \n",
    "  \n",
    "Find an explanation of this proof online in written or video form."
   ]
  },
  {
   "cell_type": "markdown",
   "metadata": {},
   "source": [
    "### Student Response:"
   ]
  },
  {
   "cell_type": "markdown",
   "metadata": {},
   "source": [
    "#### Here are some sources:\n",
    "- <a href='https://www.khanacademy.org/computing/computer-science/cryptography/random-algorithms-probability/v/fermat-s-little-theorem-visualization'>Khan Academy Link</a>  \n",
    "- <a href='https://www.youtube.com/watch?v=w0ZQvZLx2KA&ab_channel=Socratica'>Youtube Video Link</a>"
   ]
  },
  {
   "cell_type": "markdown",
   "metadata": {},
   "source": [
    "## TODO Explore Primes and Probability Further  \n",
    "You have already seen one connection between coprimality and probability in the determination that the probability that two randomly chosen positive integers are coprime being\n",
    "the reciprocal $(6\\ /\\ π^2)$ of the sum of the reciprocals of the squares of the positive integers $(π^2\\ /\\ 6)$.\n",
    "  \n",
    "There are other connections between primality and probability!\n",
    "  \n",
    "A <b>probabilistic algorithm</b> is an algorithm that might give the incorrect answer, but only with small probability. For example, there are good probabilistic algorithms that test whether or not a natural number is prime. Many of these are based on a <b>deterministic</b> test using <b>Fermat’s little theorem</b>, which, going back to the first statement of it, says that if $N$ is prime, then $N$ divides $X^N$ - $X$. Which implies that if $N$ <b>doesn’t</b> divide $X^N - X$ for some $X$, then $N$ <b>can’t</b> be prime.\n",
    "  \n",
    "Unfortunately, this test doesn’t always work, because <b>pseudoprimes</b> fool it.\n",
    "  \n",
    "In the book is a brief mention of the <b>Prime Number Theorem</b>. This theorem states that\n",
    "the number of primes not exceeding (less than or equal to) the number <b>n</b> is approximately\n",
    "equal to $\\frac{n}{log_{10}(n)}$. Can you use this theorem to estimate the probability that a randomly chosen <b>k</b> -digit number is prime?  "
   ]
  },
  {
   "cell_type": "markdown",
   "metadata": {},
   "source": [
    "### Student Response:"
   ]
  },
  {
   "cell_type": "code",
   "execution_count": 4,
   "metadata": {
    "jupyter": {
     "source_hidden": true
    },
    "tags": [
     "hide-input"
    ]
   },
   "outputs": [
    {
     "data": {
      "text/html": [
       "\n",
       "                <style>\n",
       "                #textbox {\n",
       "                        display: flex;\n",
       "                        justify-content: space-between;\n",
       "                        }\n",
       "                </style>\n",
       "                "
      ],
      "text/plain": [
       "<IPython.core.display.HTML object>"
      ]
     },
     "metadata": {},
     "output_type": "display_data"
    }
   ],
   "source": [
    "import math\n",
    "\n",
    "\n",
    "def primeEstimateProb(k):\n",
    "    macks = 10 ** k - 1\n",
    "    return (macks / math.log(macks)) / macks\n",
    "\n",
    "\n",
    "def getPrimesUpTo(num):\n",
    "    primesList = [2, 3]\n",
    "    for i in range(3, num):\n",
    "        if (i % 2 == 0 or i % 3 == 0):\n",
    "            continue\n",
    "        j = 5\n",
    "        while(j * j <= i):\n",
    "            if (i % j == 0 or i % (j + 2) == 0):\n",
    "                break\n",
    "            j += 6\n",
    "        else:\n",
    "            primesList.append(i)\n",
    "    return primesList\n",
    "\n",
    "\n",
    "def primeProb(k):\n",
    "    macks = 10 ** k - 1\n",
    "    primesList = getPrimesUpTo(macks)\n",
    "    return len(primesList) / macks"
   ]
  },
  {
   "cell_type": "code",
   "execution_count": 5,
   "metadata": {
    "jupyter": {
     "source_hidden": true
    },
    "tags": [
     "hide-input"
    ]
   },
   "outputs": [
    {
     "data": {
      "text/html": [
       "\n",
       "                <style>\n",
       "                #textbox {\n",
       "                        display: flex;\n",
       "                        justify-content: space-between;\n",
       "                        }\n",
       "                </style>\n",
       "                "
      ],
      "text/plain": [
       "<IPython.core.display.HTML object>"
      ]
     },
     "metadata": {},
     "output_type": "display_data"
    },
    {
     "name": "stdin",
     "output_type": "stream",
     "text": [
      "Input a number:  3\n"
     ]
    },
    {
     "name": "stdout",
     "output_type": "stream",
     "text": [
      "Prime Probability Estimate Using Prime Number Theorem: 0.14478579767901797\n",
      "\n",
      "Prime Probability Using Generated List of Primes: 0.16816816816816818\n",
      "\n"
     ]
    },
    {
     "name": "stdin",
     "output_type": "stream",
     "text": [
      "Print Primes List that was used?:  n\n"
     ]
    }
   ],
   "source": [
    "from distutils.util import strtobool\n",
    "k = int(input(\"Input a number: \"))\n",
    "\n",
    "print(f'Prime Probability Estimate Using Prime Number Theorem: {primeEstimateProb(k)}\\n')\n",
    "print(f'Prime Probability Using Generated List of Primes: {primeProb(k)}\\n')\n",
    "\n",
    "if bool(strtobool(input(\"Print Primes List that was used?: \"))):\n",
    "    print(f'Primes List Used: {getPrimesUpTo(10 ** k - 1)}')"
   ]
  }
 ],
 "metadata": {
  "colab": {
   "authorship_tag": "ABX9TyNCszEDhr4Gkb1LILMNegWc",
   "include_colab_link": true,
   "name": " 07_3_About_Deeper_Elementary_Number_Theory.ipynb",
   "provenance": []
  },
  "kernelspec": {
   "display_name": "Python 3",
   "language": "python",
   "name": "python3"
  },
  "language_info": {
   "codemirror_mode": {
    "name": "ipython",
    "version": 3
   },
   "file_extension": ".py",
   "mimetype": "text/x-python",
   "name": "python",
   "nbconvert_exporter": "python",
   "pygments_lexer": "ipython3",
   "version": "3.8.7"
  },
  "toc-autonumbering": false,
  "toc-showcode": true,
  "toc-showmarkdowntxt": false,
  "toc-showtags": true
 },
 "nbformat": 4,
 "nbformat_minor": 4
}
