{
 "cells": [
  {
   "cell_type": "markdown",
   "metadata": {
    "colab_type": "text",
    "id": "view-in-github"
   },
   "source": [
    "<a href=\"https://colab.research.google.com/github/byui-cse/cse380-notebooks/blob/master/12_2_Ponder_and_Prove_The_Pigeonhole_Principle.ipynb\" target=\"_parent\"><img src=\"https://colab.research.google.com/assets/colab-badge.svg\" alt=\"Open In Colab\"/></a>"
   ]
  },
  {
   "cell_type": "markdown",
   "metadata": {
    "id": "ivY_Ypmxx7Vm"
   },
   "source": [
    "# Ponder and Prove The Pigeonhole Principle\n",
    "## Due: Saturday, 27 March 2021"
   ]
  },
  {
   "cell_type": "markdown",
   "metadata": {
    "id": "zF2K38sxyH5Z"
   },
   "source": [
    "## Exploration"
   ]
  },
  {
   "cell_type": "markdown",
   "metadata": {
    "id": "uBgYLYK5yJzk"
   },
   "source": [
    "You are invited to explore some of the ramifications of the *Pigeonhole Principle*, a fascinating counting principle belonging to combinatorics.\n"
   ]
  },
  {
   "cell_type": "markdown",
   "metadata": {
    "id": "cIS4n3DpyXA1"
   },
   "source": [
    "### Requirements"
   ]
  },
  {
   "cell_type": "markdown",
   "metadata": {
    "id": "FqgealMfyZc8"
   },
   "source": [
    "Read Brother Kent Bessey's essay entitled *Pigeons and Pigeonholes*, think about and explore the topics therein, and write your response thereto.\n",
    "\n",
    "Include in your response a description of a discussion about this essay that you will have had with someone *not in the class* (nor in any of the STEM majors). This person can be a spouse, friend, roommate, or relative. The point is to find someone who is not mathematically strong, and has probably never heard of the Pigeonhole Principle, or combinatorics (or discrete mathematics) in general."
   ]
  },
  {
   "cell_type": "markdown",
   "metadata": {
    "id": "aPEEcqUGzFds"
   },
   "source": [
    "#### Copyright Note"
   ]
  },
  {
   "cell_type": "markdown",
   "metadata": {
    "id": "9EPgpQ0hzHr5"
   },
   "source": [
    "Brother Kent A. Bessey, Professor of Mathematics at BYU-Idaho, holds the copyright to this essay, which means:\n",
    "\n",
    "> All rights reserved (by him). Reproduced by permission (from him).\n",
    "Read-only. Please do not copy, print, transmit or save a copy of\n",
    "this work.\n",
    "\n",
    "He has authorized your temporary use of his work, which [you can find here](https://firstthreeodds.org/17657741833134731255/pigeons-and-pigeonholes.pdf)."
   ]
  },
  {
   "cell_type": "markdown",
   "metadata": {
    "id": "vRKIt3NOzkwH"
   },
   "source": [
    "### TODO Concretize the Abstract by Writing Some Code"
   ]
  },
  {
   "cell_type": "markdown",
   "metadata": {
    "id": "ngXSoVu3znIJ"
   },
   "source": [
    "Specifically, write some Python code to help you figure out the problem on page 40, which Brother Bessey prefaces by saying:\n",
    "\n",
    "> I leave it to the reader to verify the calculations for a final (albeit challenging) exercise ...!\n",
    "\n",
    "Include the results of your grappling with this problem, and note the two stubbed functions below that you must flesh out in order to verify the calculations and explain the hows and whys."
   ]
  },
  {
   "cell_type": "markdown",
   "metadata": {
    "id": "EBQNhzqGzzIF"
   },
   "source": [
    "#### Stub Code"
   ]
  },
  {
   "cell_type": "code",
   "execution_count": 60,
   "metadata": {
    "id": "fCOUkHjqz10k"
   },
   "outputs": [],
   "source": [
    "def calculate_number_of_possible_initials_including_middle_initial_if_any(n=26):\n",
    "    # number of possible chararacters for first initial * number of possible characters for second initial (it is plus one for possibility that it is empty) * number of possible chararacters for third initial\n",
    "    return n * (n + 1) * n\n",
    "#     raise NotImplementedError # replace this line\n",
    "\n",
    "\n",
    "def enough_pigeonholes_from_pigeons(pigeons_represented_as_people_with_traits=1168128):\n",
    "    # number of possibly initials * binaryLDSorNot * binaryCatLover * binaryBornBefore1967 * binaryContactWearer * binaryFingernailBiter *  binaryLiveNearMcD's\n",
    "    # are there enough people ?\n",
    "    return (calculate_number_of_possible_initials_including_middle_initial_if_any(26) * 2 * 2 * 2 * 2 * 2 * 2) < pigeons_represented_as_people_with_traits\n",
    "#   raise NotImplementedError # replace this line\n",
    "\n",
    "\n",
    "def pigeonhole_from_pigeon(pigeon_represented_as_a_person_with_traits):\n",
    "    # Cardinality Assert\n",
    "    assert (calculate_number_of_possible_initials_including_middle_initial_if_any(26) * 2 * 2 * 2 * 2 * 2 * 2) > 1000000\n",
    "\n",
    "    # Initalize a string to be returned\n",
    "    returnString = ''\n",
    "\n",
    "    # Example Input\n",
    "#   {'Name': 'John Doe', 'LDS': True, 'Likes Cats': True, 'Born Before': True, 'Wears Contacts': False, 'Bites Fingernails': False, 'Lives Close': True} and returns the string 'J D:111001'\n",
    "    name = pigeon_represented_as_a_person_with_traits['Name'].split()\n",
    "\n",
    "    # First Initial\n",
    "    returnString += name[0][0]\n",
    "\n",
    "    # Second and Third Initials\n",
    "    if len(name) < 3:\n",
    "        returnString += ' ' + name[1][0]\n",
    "    else:\n",
    "        returnString += name[1][0] + name[2][0]\n",
    "    returnString += ':'\n",
    "\n",
    "    # Binary Encoding of rest of inputs\n",
    "    for key in pigeon_represented_as_a_person_with_traits.keys():\n",
    "        if key == 'Name':\n",
    "            continue\n",
    "        returnString += str(int(pigeon_represented_as_a_person_with_traits[key]))\n",
    "    # Length is 10 Assert\n",
    "    assert len(returnString) == 10\n",
    "    return returnString\n",
    "#   raise NotImplementedError # replace this line"
   ]
  },
  {
   "cell_type": "code",
   "execution_count": 63,
   "metadata": {},
   "outputs": [
    {
     "name": "stdout",
     "output_type": "stream",
     "text": [
      "There are enough people for the statement on page 40 to work.\n",
      "\n",
      "Idaho has enough people for this to be true.  The previous statement is True\n",
      "Rexburg has enough people for this.  The previous statement is False\n",
      "Montana has enough people for this.  The previous statement is False\n",
      "Dallas has enough people for this.  The previous statement is True\n",
      "Jinzhou, China has enough people for this.  The previous statement is True\n",
      "The population of Utah that are not members of The Church Of Jesus Christ Of Latter Day Saints has enough people for this.  The previous statement is False\n",
      "Because we know that they are all not members then the statement actually is true, but sheer in terms of sheer numbers it is not enough.\n",
      "The population of U.S. Walmart Workers has enough people for this.  The previous statement is True\n",
      "The population of this Facebook group has enough people for this.  The previous statement is True\n",
      "The population of H3 Podcast Subscribers has enough people for this.  The previous statement is True\n",
      "The population of pigeons in New York City if they were people has enough people for this.  The previous statement is True\n",
      "\n",
      "The pigeon is {'Name': 'John Doe', 'LDS': True, 'Likes Cats': True, 'Born Before': True, 'Wears Contacts': False, 'Bites Fingernails': False, 'Lives Close': True}\n",
      "The pigeonhole is J D:111001\n",
      "\n",
      "The pigeon is {'Name': 'Noah Austin Cook', 'LDS': True, 'Likes Cats': True, 'Born Before': False, 'Wears Contacts': False, 'Bites Fingernails': True, 'Lives Close': True}\n",
      "The pigeonhole is NAC:110011\n"
     ]
    }
   ],
   "source": [
    "print('There are enough people for the statement on page 40 to work.\\n')\n",
    "populationOfIdaho = 1787065\n",
    "print('Idaho has enough people for this to be true.  The previous statement is', enough_pigeonholes_from_pigeons(populationOfIdaho))\n",
    "\n",
    "populationOfRexburg = 28414\n",
    "print('Rexburg has enough people for this.  The previous statement is', enough_pigeonholes_from_pigeons(populationOfRexburg))\n",
    "\n",
    "populationOfMontana = 1068778\n",
    "print('Montana has enough people for this.  The previous statement is', enough_pigeonholes_from_pigeons(populationOfMontana))\n",
    "\n",
    "populationOfDallas = 1197816\n",
    "print('Dallas has enough people for this.  The previous statement is', enough_pigeonholes_from_pigeons(populationOfDallas))\n",
    "\n",
    "populationOfJinzhouChina = 1168535\n",
    "print('Jinzhou, China has enough people for this.  The previous statement is', enough_pigeonholes_from_pigeons(populationOfJinzhouChina))\n",
    "\n",
    "populationOfUtahThatAreNotMembersOfTheChurchOfJesusChristOfLatterDaySaints = 3205958 - 2126216 # Population of Utah (3,205,958) - amount of members in Utah (2,126,216) = 1,079,742\n",
    "print('The population of Utah that are not members of The Church Of Jesus Christ Of Latter Day Saints has enough people for this.  The previous statement is', enough_pigeonholes_from_pigeons(populationOfUtahThatAreNotMembersOfTheChurchOfJesusChristOfLatterDaySaints))\n",
    "print('Because we know that they are all not members then the statement actually is true, but sheer in terms of sheer numbers it is not enough.')\n",
    "\n",
    "populationOfUSWalmartWorkers = 1250000 # Walmart says it is almost 1.5 million taking this assumption it should be at least 1.25 million for rounding up to make sense.\n",
    "print('The population of U.S. Walmart Workers has enough people for this.  The previous statement is', enough_pigeonholes_from_pigeons(populationOfUSWalmartWorkers))\n",
    "\n",
    "peopleInThisWeirdFaceboookGroup = 1400000 # https://www.facebook.com/groups/1877544595792579/?ref=group_header    Boruto/Naruto Group\n",
    "print('The population of this Facebook group has enough people for this.  The previous statement is', enough_pigeonholes_from_pigeons(peopleInThisWeirdFaceboookGroup))\n",
    "\n",
    "peopleSubscribedToH3Podcast = 2710000\n",
    "print('The population of H3 Podcast Subscribers has enough people for this.  The previous statement is', enough_pigeonholes_from_pigeons(peopleSubscribedToH3Podcast))\n",
    "\n",
    "pigeonsInNewYorkCityIfTheyWerePeople = 4000000   # http://nynjwildliferemoval.com/2018/01/17/how-many-pigeons-are-in-nyc/#:~:text=According%20to%20a%20number%20of,not%20migrate%20in%20the%20winter.\n",
    "print('The population of pigeons in New York City if they were people has enough people for this.  The previous statement is', enough_pigeonholes_from_pigeons(pigeonsInNewYorkCityIfTheyWerePeople))\n",
    "print()\n",
    "print('The pigeon is', {'Name': 'John Doe', 'LDS': True, 'Likes Cats': True, 'Born Before': True, 'Wears Contacts': False, 'Bites Fingernails': False, 'Lives Close': True})\n",
    "print('The pigeonhole is', pigeonhole_from_pigeon({'Name': 'John Doe', 'LDS': True, 'Likes Cats': True, 'Born Before': True, 'Wears Contacts': False, 'Bites Fingernails': False, 'Lives Close': True}))\n",
    "print()\n",
    "print('The pigeon is', {'Name': 'Noah Austin Cook', 'LDS': True, 'Likes Cats': True, 'Born Before': False, 'Wears Contacts': False, 'Bites Fingernails': True, 'Lives Close': True})\n",
    "print('The pigeonhole is', pigeonhole_from_pigeon({'Name': 'Noah Austin Cook', 'LDS': True, 'Likes Cats': True, 'Born Before': False, 'Wears Contacts': False, 'Bites Fingernails': True, 'Lives Close': True}))"
   ]
  },
  {
   "cell_type": "markdown",
   "metadata": {
    "id": "JvMpIHMF0JuM"
   },
   "source": [
    "### TODO Find Applications of the Pigeonhole Principle"
   ]
  },
  {
   "cell_type": "markdown",
   "metadata": {},
   "source": [
    "Here is a source I found <a href='https://mindyourdecisions.com/blog/2008/11/25/16-fun-applications-of-the-pigeonhole-principle/'><img src='https://image.shutterstock.com/image-photo/pigeon-window-stone-260nw-471502772.jpg' alt='Pigeon in a Hole'> or here</a>\n",
    "  \n",
    "<a href='https://math.stackexchange.com/questions/62565/what-is-your-favorite-application-of-the-pigeonhole-principle'>Here is blog of different applications of it.<a/>\n",
    "  \n",
    "Every graph with two or more vertices has two vertices with the same degree."
   ]
  },
  {
   "cell_type": "markdown",
   "metadata": {
    "id": "9aicPoZG0Lbj"
   },
   "source": [
    "Especially in graph theory --- there are many!"
   ]
  },
  {
   "cell_type": "markdown",
   "metadata": {
    "id": "81dbKwHenxnT"
   },
   "source": [
    "## TODO My Report on What I Did and What I Learned"
   ]
  },
  {
   "cell_type": "markdown",
   "metadata": {
    "id": "C8BeiIern33B"
   },
   "source": [
    "### Fun\n"
   ]
  },
  {
   "cell_type": "markdown",
   "metadata": {
    "id": "ElukRLoezyxd"
   },
   "source": [
    "I had fun looking for applications of this fascinating princple.  I also enjoyed looking up various groups that fufilled that requirements."
   ]
  },
  {
   "cell_type": "markdown",
   "metadata": {
    "id": "OzOkZ3son-u9"
   },
   "source": [
    "### New"
   ]
  },
  {
   "cell_type": "markdown",
   "metadata": {
    "id": "3-nYIdEUz4x5"
   },
   "source": [
    "I did not fully comprehend the Pigeonhole Principle before this assignment.  I definitely get it now."
   ]
  },
  {
   "cell_type": "markdown",
   "metadata": {
    "id": "mJHvoj6GokaZ"
   },
   "source": [
    "### Meaningful\n"
   ]
  },
  {
   "cell_type": "markdown",
   "metadata": {
    "id": "XOxh3XFTz-6N"
   },
   "source": [
    "You can use this to calculate the minimum amount of things required to fufill the needs of a group.  For example if I wanted to have a dinner for a bunch of friends.  I want to have at least 5 people there and I want those five people to have something in common.  If I choose a binary attribute (gender, college educated or not, likes pizza or not, likes cake more than pie, etc) I only have to find 9 people to guarantee my group of 5 people."
   ]
  },
  {
   "cell_type": "markdown",
   "metadata": {
    "id": "_RBE03fhpNUG"
   },
   "source": [
    "### Other"
   ]
  },
  {
   "cell_type": "markdown",
   "metadata": {
    "id": "d-sXEeq60C3W"
   },
   "source": [
    "I did not collaborate with anyone but the internet and I guess Brother Kent A. Bessey by reading his paper.   I thought the essay overall was well written and an enjoyable read.  The fact that we can make these statements that sounds outrageous at times, but are facts is awesome.  We can claim some very specific and weird things because of this and that is the best part.  The two people eat breakfast at the same time in Rexburg is such a weird statement but is true.  I find it very fascinating.  The idea that before looking for a solution we should look for the existence of a solution.  I had not thought about this.  This is probably why I am a programmer and not a computer scientist.  I found the problem relatively straightforward.  We look at the amount of possible outcomes for each option (likes cats or not: options 2), and multiple all those amounts together.  We can look at the amount of connections and vertexes needed in a graph by using the principle."
   ]
  },
  {
   "cell_type": "markdown",
   "metadata": {
    "id": "Nrk-8EmgW4NP"
   },
   "source": [
    "## TODO What is True?\n",
    "Click on each warranted checkbox to toggle it to True (or back to False). \n",
    "\n",
    "NOTE: *This only works in Colab. If you run it in some other Jupyter notebook client/server environment you may have to change False to True (or vice versa) manually.*\n",
    "\n",
    "This self-assessment is subject to revision by a grader."
   ]
  },
  {
   "cell_type": "code",
   "execution_count": null,
   "metadata": {
    "id": "qGAjzgVRXR4M"
   },
   "outputs": [],
   "source": [
    "#@markdown ## What is True about what I did?\n",
    "#@markdown ### I had fun.\n",
    "cb00 = True #@param {type:'boolean'}\n",
    "#@markdown ### I learned something new.\n",
    "cb01 = True #@param {type:'boolean'}\n",
    "#@markdown ### I achieved something meaningful, or something I can build upon at a later time.\n",
    "cb02 = True #@param {type:'boolean'}\n",
    "#@markdown ## What is True about my report?\n",
    "#@markdown ### I wrote a sufficient number of well-written sentences.\n",
    "cb03 = True #@param {type:'boolean'}\n",
    "#@markdown ### My report is free of mechanical infelicities.\n",
    "cb04 = True #@param {type:'boolean'}\n",
    "#@markdown ### I used Grammarly (or something better described in my report) to check for MIs.\n",
    "cb05 = True #@param {type:'boolean'}\n",
    "#@markdown ### I reported on any connections I found between these problems and something I already know. \n",
    "cb06 = True #@param {type:'boolean'}\n",
    "#@markdown ### I reported who were and what contribution each of my collaborators made.\n",
    "cb07 = True #@param {type:'boolean'}\n",
    "#@markdown ### I reported what I thought about the essay in general.\n",
    "cb08 = True #@param {type:'boolean'}\n",
    "#@markdown ### I reported what I thought about the certainty-not-chance feature of the pigeonhole principle.\n",
    "cb09 = True #@param {type:'boolean'}\n",
    "#@markdown ### I reported what I thought about the philosophical aspect of the pigeonhole principle per page 41.\n",
    "cb10 = True #@param {type:'boolean'}\n",
    "#@markdown ### I reported on how my discussion with a non-STEM non-classmate went.\n",
    "cb11 = True #@param {type:'boolean'}\n",
    "#@markdown ### I reported on how I grappled with the problem at the bottom of page 40.\n",
    "cb12 = True #@param {type:'boolean'}\n",
    "#@markdown ### I reported on the connection I found between the pigeonhole principle and graphs.\n",
    "cb13 = True #@param {type:'boolean'}\n",
    "#@markdown ## What is True about my code?\n",
    "#@markdown ### I implemented the first function (the one with the absurdly long name) in one or two lines of code.\n",
    "cb14 = True #@param {type:'boolean'}\n",
    "#@markdown ### I used either the sum rule and product rule together or else just the product rule in the first function.\n",
    "cb15 = True #@param {type:'boolean'}\n",
    "#@markdown ### The first function calculates and returns the correct value (see Exercise 250).\n",
    "cb16 = True #@param {type:'boolean'}\n",
    "#@markdown ### The second function inputs a dictionary like {'Name': 'John Doe', 'LDS': True, 'Likes Cats': True, 'Born Before': True, 'Wears Contacts': False, 'Bites Fingernails': False, 'Lives Close': True} and returns the string 'J D:111001'.\n",
    "cb17 = True #@param {type:'boolean'}\n",
    "#@markdown ### The second function calls the first function with the appropriate argument and uses the result.\n",
    "cb18 = True #@param {type:'boolean'}\n",
    "#@markdown ### The second function includes an assert that the length of the string being returned is 10.\n",
    "cb19 = True #@param {type:'boolean'}\n",
    "#@markdown ### The second function includes an assert that the cardinality of its codomain (set of possible return values) is over a million.\n",
    "cb20 = True #@param {type:'boolean'}"
   ]
  },
  {
   "cell_type": "markdown",
   "metadata": {
    "id": "q8KESLBANSkC"
   },
   "source": [
    "## DO NOT CHANGE ANYTHING IN THE NEXT CODE CELL!!\n",
    "### Delete this cell and the following ones before submitting your work."
   ]
  },
  {
   "cell_type": "code",
   "execution_count": null,
   "metadata": {
    "colab": {
     "base_uri": "https://localhost:8080/"
    },
    "id": "rJ_vaL0DWwoc",
    "outputId": "de4a9ea6-03a9-4d79-94dd-27e2603abe59"
   },
   "outputs": [
    {
     "data": {
      "text/plain": [
       "0"
      ]
     },
     "execution_count": 14,
     "metadata": {
      "tags": []
     },
     "output_type": "execute_result"
    }
   ],
   "source": [
    "points_for_what_I_did = [3]*3\n",
    "points_for_my_report = [5]*8 + [7] + [6]*2\n",
    "points_for_my_code = [4]*3 + [5]*4\n",
    "points = points_for_what_I_did + points_for_my_report + points_for_my_code\n",
    "# cb is short for checkbox\n",
    "total = sum(map(lambda n, p: p if eval(f'cb{n:02}') else 0,\n",
    "                range(len(points)), points))             \n",
    "total"
   ]
  },
  {
   "cell_type": "markdown",
   "metadata": {
    "id": "muxeYgQQKGEU"
   },
   "source": [
    "# For graders"
   ]
  }
 ],
 "metadata": {
  "colab": {
   "authorship_tag": "ABX9TyMUpDwijcJKPxnaIhDtOnTj",
   "include_colab_link": true,
   "name": "12_2_Ponder_and_Prove_The_Pigeonhole_Principle.ipynb",
   "provenance": []
  },
  "kernelspec": {
   "display_name": "Python 3",
   "language": "python",
   "name": "python3"
  },
  "language_info": {
   "codemirror_mode": {
    "name": "ipython",
    "version": 3
   },
   "file_extension": ".py",
   "mimetype": "text/x-python",
   "name": "python",
   "nbconvert_exporter": "python",
   "pygments_lexer": "ipython3",
   "version": "3.8.7"
  }
 },
 "nbformat": 4,
 "nbformat_minor": 4
}
