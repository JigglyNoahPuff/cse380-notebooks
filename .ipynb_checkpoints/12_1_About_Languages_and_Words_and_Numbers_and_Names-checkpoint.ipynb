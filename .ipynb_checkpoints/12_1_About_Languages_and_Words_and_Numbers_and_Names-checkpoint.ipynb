{
 "cells": [
  {
   "cell_type": "markdown",
   "metadata": {
    "colab_type": "text",
    "id": "view-in-github"
   },
   "source": [
    "<a href=\"https://colab.research.google.com/github/byui-cse/cse380-notebooks/blob/master/12_1_About_Languages_and_Words_and_Numbers_and_Names.ipynb\" target=\"_parent\"><img src=\"https://colab.research.google.com/assets/colab-badge.svg\" alt=\"Open In Colab\"/></a>"
   ]
  },
  {
   "cell_type": "markdown",
   "metadata": {
    "id": "VOSJHQqL9Riu"
   },
   "source": [
    "# About Languages and Words and Numbers and Names\n",
    "## Divide Pair Conquer\n",
    "### Due: Monday, 22 March 2021, 11:59 pm"
   ]
  },
  {
   "cell_type": "markdown",
   "metadata": {
    "id": "0VOWtC5G9fco"
   },
   "source": [
    "## Let's Discuss Language In General"
   ]
  },
  {
   "cell_type": "markdown",
   "metadata": {
    "id": "4MJfFItwsSzF"
   },
   "source": [
    "What IS Language?\n",
    "\n",
    "A (human) language has three elements:\n",
    "1. Meaning --- not conveyed, but called forth.\n",
    "2. Productivity --- you can use the same old words to make new communications.\n",
    "3. Displacement --- you can use language to talk about things that aren't present.\n",
    "\n",
    "Humans enhance productivity by making language *recursive* --- using **rules** to combine individual sounds and words into an infinite number of different sentences with different meanings.\n"
   ]
  },
  {
   "cell_type": "markdown",
   "metadata": {
    "id": "Ghsuh3ovviA1"
   },
   "source": [
    "### English and Programming Languages"
   ]
  },
  {
   "cell_type": "markdown",
   "metadata": {
    "id": "g5dGLqZgvjG9"
   },
   "source": [
    "An undisputed master of language, Edgar Allan Poe once bragged about his Power of Words:\n",
    "\n",
    "> How very commonly we hear it remarked that such and such thoughts are beyond the compass of words! I do not believe that any thought, properly so called, is out of the reach of language. I fancy, rather, that where difficulty in expression is experienced, there is, in the intellect which experiences it, a want either of deliberateness or of method.\n",
    "\n",
    "> For my own part, I have never had a thought which I could not set down in words, with even more distinctness than that with which I conceived it: as I have before observed, the thought is logicalised by the effort at (written) expression.\n",
    "\n",
    "But even Poe would struggle with the ambiguities, paradoxes and contradictions **recursion** (or **self-reference**) creates at the English language level.\n",
    "\n",
    "For example:\n",
    "\n",
    "This sentence is false.\n",
    "\n",
    "The sentence just below is false.\n",
    "\n",
    "The sentence just above is true.\n",
    "\n",
    "Recall the Use-Mention distinction?\n",
    "\n",
    "Idaho has mountains.\n",
    "\n",
    "(A use of the word.)\n",
    "\n",
    "\"Idaho\" has 5 letters.\n",
    "\n",
    "(A mention of the word.)\n",
    "\n",
    "The so-called \"Quine\" operation makes use of this distinction:\n",
    "\n",
    "\"yields falsehood when preceded by its quotation\"\n",
    "yields falsehood when preceded by its quotation\n",
    "\n",
    "Quoting Wikipedia:\n",
    "\n",
    "> This operation shows that a sentence can be paradoxical even if it is not self-referring and does not use demonstratives or indexicals.\n",
    "\n",
    "Quoting [an article on which](https://www.rep.routledge.com/articles/thematic/demonstratives-and-indexicals/v-1):\n",
    "\n",
    "> Demonstratives and indexicals are words and phrases whose interpretations are dependent on features of the context in which they are used. For example, the reference of ‘I’ depends on conditions associated with its use: as you use it, it refers to you; as I use it, it refers to me. In contrast, what ‘the inventor of bifocals’ refers to does not depend on when or where or by whom it is used. Among indexicals are the words ‘here’, ‘now’, ‘today’, demonstrative pronouns such as ‘this’, reflexive, possessive and personal pronouns; and compound phrases employing indexicals, such as ‘my mother’. C.S. Peirce introduced the term ‘indexical’ to suggest the idea of pointing (as in ‘index finger’).\n",
    "\n",
    "\"is a sentence fragment\" is a sentence fragment\n",
    "\n",
    "This sentence no verb.\n",
    "\n",
    "This sentence has six words.\n",
    "\n",
    "How about quining in a high-level programming language?\n",
    "\n",
    "\n",
    "\n",
    "\n",
    "\n"
   ]
  },
  {
   "cell_type": "code",
   "execution_count": 1,
   "metadata": {
    "id": "4Apx96dIx4KR"
   },
   "outputs": [
    {
     "name": "stderr",
     "output_type": "stream",
     "text": [
      "'diff' is not recognized as an internal or external command,\n",
      "operable program or batch file.\n"
     ]
    }
   ],
   "source": [
    "!echo -n 'main(){char *c=\"main(){char *c=%c%s%c;printf(c,34,c,34);}\";printf(c,34,c,34);}' > quine.c; cc -w quine.c; ./a.out | diff - quine.c"
   ]
  },
  {
   "cell_type": "markdown",
   "metadata": {
    "id": "k2q6zKC5yOZ_"
   },
   "source": [
    "This only works in Python 3.8 or later:"
   ]
  },
  {
   "cell_type": "code",
   "execution_count": 2,
   "metadata": {
    "id": "vK-BonVXyVAY"
   },
   "outputs": [
    {
     "name": "stdout",
     "output_type": "stream",
     "text": [
      "exec(s:='print(\"exec(s:=%r)\"%s)')\n"
     ]
    }
   ],
   "source": [
    "exec(s:='print(\"exec(s:=%r)\"%s)')"
   ]
  },
  {
   "cell_type": "markdown",
   "metadata": {
    "id": "1XJ85pJ_yaBv"
   },
   "source": [
    "What about Java?"
   ]
  },
  {
   "cell_type": "markdown",
   "metadata": {
    "id": "Wi03Xjo-yiNJ"
   },
   "source": [
    "```public class Self{public static void main(String[] args){String s=\"public class Self{public static void main(String[] args){String s=%c%s%c;System.out.printf(s,34,s,34);}}\";System.out.printf(s,34,s,34);}}```"
   ]
  },
  {
   "cell_type": "markdown",
   "metadata": {
    "id": "xU61y-Y-ynpD"
   },
   "source": [
    "How about Lisp?!\n",
    "\n",
    "```((lambda (x) (list x (list 'quote x))) '(lambda (x) (list x (list 'quote x))))```\n",
    "\n"
   ]
  },
  {
   "cell_type": "code",
   "execution_count": 3,
   "metadata": {
    "id": "DlUCUGKby3AR"
   },
   "outputs": [
    {
     "name": "stderr",
     "output_type": "stream",
     "text": [
      "'grep' is not recognized as an internal or external command,\n",
      "operable program or batch file.\n"
     ]
    }
   ],
   "source": [
    "!curl https://raw.githubusercontent.com/zqq980/wshift_v2/master/src/hostile/Dupe.java | grep -v package > Dupe.java"
   ]
  },
  {
   "cell_type": "code",
   "execution_count": 4,
   "metadata": {
    "id": "LbGF6YF7y8ha"
   },
   "outputs": [
    {
     "name": "stderr",
     "output_type": "stream",
     "text": [
      "'head' is not recognized as an internal or external command,\n",
      "operable program or batch file.\n"
     ]
    }
   ],
   "source": [
    "!head -20 Dupe.java"
   ]
  },
  {
   "cell_type": "code",
   "execution_count": 5,
   "metadata": {
    "id": "oqwfB8XyzUlU"
   },
   "outputs": [
    {
     "name": "stderr",
     "output_type": "stream",
     "text": [
      "'javac' is not recognized as an internal or external command,\n",
      "operable program or batch file.\n"
     ]
    }
   ],
   "source": [
    "!javac Dupe.java"
   ]
  },
  {
   "cell_type": "code",
   "execution_count": 6,
   "metadata": {
    "id": "iPRMu01qzYIS"
   },
   "outputs": [
    {
     "name": "stderr",
     "output_type": "stream",
     "text": [
      "'rm' is not recognized as an internal or external command,\n",
      "operable program or batch file.\n"
     ]
    }
   ],
   "source": [
    "!rm -rf dupedupe && mkdir dupedupe"
   ]
  },
  {
   "cell_type": "code",
   "execution_count": 7,
   "metadata": {
    "colab": {
     "base_uri": "https://localhost:8080/"
    },
    "id": "XczjMiz_zbjz",
    "outputId": "f066c3e9-3b4d-4638-edb4-76056c97957a"
   },
   "outputs": [
    {
     "name": "stderr",
     "output_type": "stream",
     "text": [
      "The system cannot find the path specified.\n"
     ]
    }
   ],
   "source": [
    "!cd dupedupe; java -cp .. Dupe"
   ]
  },
  {
   "cell_type": "code",
   "execution_count": 8,
   "metadata": {
    "id": "BIbMFJHYzhyH"
   },
   "outputs": [
    {
     "name": "stderr",
     "output_type": "stream",
     "text": [
      "'diff' is not recognized as an internal or external command,\n",
      "operable program or batch file.\n"
     ]
    }
   ],
   "source": [
    "!diff Dupe.java dupedupe/Dupe.java"
   ]
  },
  {
   "cell_type": "markdown",
   "metadata": {
    "id": "ugpYR2xxzm9a"
   },
   "source": [
    "## TODO Explore and Learn"
   ]
  },
  {
   "cell_type": "markdown",
   "metadata": {
    "id": "sqHV1JYdzqg4"
   },
   "source": [
    "1101121\n",
    "\n",
    "This number has a name:\n",
    "\n",
    "one million, one hundred one thousand, one hundred twenty-one\n",
    "\n",
    "``` 1     2      3     4     5     6       7    8       9    10```\n",
    "\n",
    "It also has this name:\n",
    "\n",
    "*the smallest number not nameable in under ten words*\n",
    "\n",
    " 1     2       3     4     5     6   7     8    9\n",
    "\n",
    "The second name appears to name **in nine words** the smallest number **not nameable** in under ten words!\n",
    "\n",
    "Called the Russell-Berry Paradox, or just the Berry Paradox, this is one of the easier language-referential paradoxes to grasp.\n",
    "\n",
    "\n"
   ]
  },
  {
   "cell_type": "markdown",
   "metadata": {
    "id": "ApVS1Uph0OmX"
   },
   "source": [
    "### TODO Task 1"
   ]
  },
  {
   "cell_type": "markdown",
   "metadata": {
    "id": "6kZrrpj00Pv0"
   },
   "source": [
    "Grapple with this (and related) paradoxes with your partner. Discuss various types of paradoxes you have encountered in your travels."
   ]
  },
  {
   "cell_type": "markdown",
   "metadata": {
    "id": "j7AJHDqQ0UZa"
   },
   "source": [
    "### TODO Task 2"
   ]
  },
  {
   "cell_type": "markdown",
   "metadata": {
    "id": "HsjGFbIs0W9w"
   },
   "source": [
    "Look up and read the Edgar Allan Poe \"prose poem\" *The Power of Words*, and discuss it with your partner. You might even take turns reading out loud, one of you taking the role of Oinos and the other of Agathos.\n",
    "\n",
    "Be prepared to have to look up some words!"
   ]
  }
 ],
 "metadata": {
  "colab": {
   "authorship_tag": "ABX9TyNfNMCEPQQTLR1rw0WYZH6R",
   "collapsed_sections": [
    "ugpYR2xxzm9a"
   ],
   "include_colab_link": true,
   "name": "12_1_About_Languages_and_Words_and_Numbers_and_Names.ipynb",
   "provenance": []
  },
  "kernelspec": {
   "display_name": "Python 3",
   "language": "python",
   "name": "python3"
  },
  "language_info": {
   "codemirror_mode": {
    "name": "ipython",
    "version": 3
   },
   "file_extension": ".py",
   "mimetype": "text/x-python",
   "name": "python",
   "nbconvert_exporter": "python",
   "pygments_lexer": "ipython3",
   "version": "3.8.7"
  }
 },
 "nbformat": 4,
 "nbformat_minor": 4
}
