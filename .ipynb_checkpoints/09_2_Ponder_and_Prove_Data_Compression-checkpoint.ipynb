{
 "cells": [
  {
   "cell_type": "markdown",
   "metadata": {
    "colab_type": "text",
    "id": "view-in-github"
   },
   "source": [
    "<a href=\"https://colab.research.google.com/github/byui-cse/cse380-notebooks/blob/master/09_2_Ponder_and_Prove_Data_Compression.ipynb\" target=\"_parent\"><img src=\"https://colab.research.google.com/assets/colab-badge.svg\" alt=\"Open In Colab\"/></a>"
   ]
  },
  {
   "cell_type": "markdown",
   "metadata": {
    "id": "1rG4k7VvQ2WT"
   },
   "source": [
    "# Ponder and Prove Data Compression\n",
    "#### Due: Saturday, 6 March 2021, 11:59 pm."
   ]
  },
  {
   "cell_type": "markdown",
   "metadata": {
    "id": "W0WxE3IAQ2WU"
   },
   "source": [
    "# TODO Explore Huffman Trees and Huffman Codes\n"
   ]
  },
  {
   "cell_type": "markdown",
   "metadata": {
    "id": "w2vby9erSjOv"
   },
   "source": [
    "Your task is examine how to compress a *special piece of information* as compactly as possible, and **calculate various compression ratios**.\n",
    "\n",
    "Recall that the **compression ratio** of a variable-length encoding like Huffman encoding is the percentage $100(f - v)/f$, where $f$ is the number of bits per symbol of the smallest **fixed**-length encoding, and $v$ is the average number of bits per symbol with the variable-length encoding.\n",
    "\n",
    "For example, if there were 9 different symbols in a message, $f=4$ is the number of bits of the smallest fixed-length encoding, because $2^3 = 8$ (not enough for $9$) and $2^4 = 16$ (enough and to spare). If the variable-length encoding of the message had $v=3.12$, the compression ratio would be $100(4 - 3.12)/4 \\approx 22\\%$.\n",
    "\n",
    "Note that calculating the average number of bits per symbol is not strictly necessary. That's because an alternate and equivalent way is to calculate $100(ft - vt)/ft$, where $ft$ is the **total** number of bits encoded with the fixed encoding, and $vt$ is the **total** number of bits encoded with the variable-length encoding.\n",
    "\n",
    "The *special piece of information* to be compressed is a list of the first ten million primes. This is a list that starts\n",
    "\n",
    "|    |\n",
    "|----|\n",
    "|  2 |\n",
    "|  3 |\n",
    "|  5 |\n",
    "|  7 |\n",
    "| 11 |\n",
    "| 13 |\n",
    "| 17 |\n",
    "| 19 |\n",
    "| 23 |\n",
    "| 29 |\n",
    "\n",
    "  and ends\n",
    "\n",
    "|           |\n",
    "|-----------|\n",
    "| 179424551 |\n",
    "| 179424571 |\n",
    "| 179424577 |\n",
    "| 179424601 |\n",
    "| 179424611 |\n",
    "| 179424617 |\n",
    "| 179424629 |\n",
    "| 179424667 |\n",
    "| 179424671 |\n",
    "| 179424673 |\n",
    "\n",
    "As ASCII text stored in a file with one prime per line, the size of this data file is slightly over 89 megabytes. The goal is to compress this down to just over 5 megabytes (5589056 bytes, to be exact). That's a 94% compression ratio!\n",
    "\n",
    "Standard compression tools can only get about a 73% compression ratio for this ASCII data. A more clever approach is needed. Instead of compressing the list of prime numbers, compress a list of the *gaps* between them!\n",
    "\n",
    "It doesn't save much, just the unique (occurring only once) gap size of 1 between 2 and 3, but in the spirit of de Polignac's conjecture that every *even* number appears infinitely often as a gap between consecutive primes, just consider the even-sized gaps. The result will be a list that starts with 2 (the difference between 5 and 3), 2 (the difference between 7 and 5), 4 (the difference between 11 and 7), 2 (the difference between 13 and 11), 4 (the difference between 17 and 13), 2 (the difference between 19 and 17), 4 (the difference between 23 and 19), and 6 (the difference between 29 and 23).\n",
    "\n",
    "Generating this data is the first task. The algorithm for doing so is very straightforward:\n",
    "\n",
    "1. Find the gaps between consecutive odd primes.\n",
    "2. Store these gaps as a list of even numbers.\n",
    "\n",
    "Tabulating the results, the first ten gaps and the last ten gaps are as follows, where the numbers after the equals signs are the gaps to list:\n",
    "\n",
    "|                 |\n",
    "|-----------------|\n",
    "|  5  -   3  =  2 |\n",
    "|  7  -   5  =  2 |\n",
    "| 11  -   7  =  4 |\n",
    "| 13  -  11  =  2 |\n",
    "| 17  -  13  =  4 |\n",
    "| 19  -  17  =  2 |\n",
    "| 23  -  19  =  4 |\n",
    "| 29  -  23  =  6 |\n",
    "| 31  -  29  =  2 |\n",
    "| 37  -  31  =  6 |\n",
    "\n",
    "|                                |\n",
    "|--------------------------------|\n",
    "| 179424551  -  179424533  =  18 |\n",
    "| 179424571  -  179424551  =  20 |\n",
    "| 179424577  -  179424571  =   6 |\n",
    "| 179424601  -  179424577  =  24 |\n",
    "| 179424611  -  179424601  =  10 |\n",
    "| 179424617  -  179424611  =   6 |\n",
    "| 179424629  -  179424617  =  12 |\n",
    "| 179424667  -  179424629  =  38 |\n",
    "| 179424671  -  179424667  =   4 |\n",
    "| 179424673  -  179424671  =   2 |\n",
    "\n",
    "As a correctness check, see if your generated list of gaps has length 9999998.\n",
    "\n",
    "The next step is to count how many times each gap size occurs, so that for the Huffman encoding scheme, the larger the frequency of occurrence, the smaller the number of bits encoding that gap size.\n",
    "\n",
    "As a correctness check, here are the first ten and the last ten gap counts:\n",
    "\n",
    "|  Gap | Count   |\n",
    "|------|---------|\n",
    "|    2 |  738597 |\n",
    "|    4 |  738717 |\n",
    "|    6 | 1297540 |\n",
    "|    8 |  566151 |\n",
    "|   10 |  729808 |\n",
    "|   12 |  920661 |\n",
    "|   14 |  503524 |\n",
    "|   16 |  371677 |\n",
    "|   18 |  667734 |\n",
    "|   20 |  354267 |\n",
    "|      |         |\n",
    "|  190 |       1 |\n",
    "|  192 |       3 |\n",
    "|  194 |       1 |\n",
    "|  196 |       1 |\n",
    "|  198 |       6 |\n",
    "|  202 |       2 |\n",
    "|  204 |       3 |\n",
    "|  210 |       4 |\n",
    "|  220 |       1 |\n",
    "|  222 |       1 |\n",
    "\n",
    "Note two things from these partial gap counts:\n",
    "\n",
    "1. Small even numbers (< 100) are well represented, larger ones (< 1000) less so.\n",
    "2. Ten million primes aren't enough to have *every* even number represented; for example, 200, 206, 208, 212, 214, 216, and 218 do not appear even once.\n"
   ]
  },
  {
   "cell_type": "markdown",
   "metadata": {
    "id": "7CUIw8_k03JJ"
   },
   "source": [
    "# TODO Determine Exact Size of Data to be Compressed\n"
   ]
  },
  {
   "cell_type": "markdown",
   "metadata": {
    "id": "wB4sXf0X09Gv"
   },
   "source": [
    "Without actually doing it, imagine creating an ASCII file containing the first ten million primes, represented in decimal, one prime per line. Calculate the size of this file, so you can show an exceptional compression ratio from it (see below).\n",
    "\n",
    "Using a binary encoding instead of ASCII, each prime requires 32 bits (4 bytes), so the size of a binary file is easily determined.\n",
    "\n",
    "Using a fixed-width encoding of the gap counts, however, requires knowing how many different gap sizes there are, after which the calculation is straightforward."
   ]
  },
  {
   "cell_type": "code",
   "execution_count": 14,
   "metadata": {},
   "outputs": [
    {
     "name": "stdout",
     "output_type": "stream",
     "text": [
      "ASCII Fixed Width File Size: 95.367431640625\n",
      "Binary Encoding File Size: 47.6837158203125\n",
      "Gaps Fixed Width File Size: 19.073486328125\n"
     ]
    }
   ],
   "source": [
    "# Calculate Size of a Megabyte\n",
    "MB = (2 ** 20)\n",
    "# ASCII Fixed Width File Size\n",
    "print('ASCII Fixed Width File Size:', 100000000 / MB)\n",
    "# Binary Encoding File Size\n",
    "print('Binary Encoding File Size:', 50000000 / MB)\n",
    "# Gaps Fixed Width File Size\n",
    "from pyprimesieve import primes\n",
    "from math import ceil, log\n",
    "\n",
    "list_of_gaps = []\n",
    "prev = 3\n",
    "\n",
    "for prime in list(primes(4, 179424674)):\n",
    "    gap = prime - prev\n",
    "    prev = prime\n",
    "    list_of_gaps.append(gap)\n",
    "\n",
    "# Find biggest gap in the list of gaps\n",
    "biggestGap = max(list_of_gaps)\n",
    "# Find the amount of bits needed to represent the maxwidth\n",
    "maxWidth = ceil(log(biggestGap, 2))\n",
    "# Calculate amount of bytes per line\n",
    "gapsFixedWidth = maxWidth = (maxWidth / 8) + 1\n",
    "gapsFixedWidthFileSize = 10000000 * gapsFixedWidth\n",
    "\n",
    "print('Gaps Fixed Width File Size:', gapsFixedWidthFileSize / MB)"
   ]
  },
  {
   "cell_type": "code",
   "execution_count": 16,
   "metadata": {},
   "outputs": [
    {
     "name": "stdout",
     "output_type": "stream",
     "text": [
      "2.0\n"
     ]
    }
   ],
   "source": [
    "print(gapsFixedWidth)"
   ]
  },
  {
   "cell_type": "markdown",
   "metadata": {},
   "source": [
    "## ASCII Fixed Width File Size: \n",
    "9 ASCII Characters per line for the numbers plus 1 ASCII Character for the newline\n",
    "1 ASCII Character for newline = 1 Byte  \n",
    "10 bytes per line * 10 million = 100,000,000 bytes.  \n",
    "100,000,000 bytes = 95.367431640625 megabytes\n",
    "\n",
    "## Binary Encoding File Size: \n",
    "4 bytes per prime + 1 byte for a newline =  5 bytes per line\n",
    "5 bytes per line * 10 million = 50 million bytes\n",
    "\n",
    "## Gaps Fixed Width File Size:\n",
    "*Calculations above*\n",
    "19.073486328125 Megabytes"
   ]
  },
  {
   "cell_type": "markdown",
   "metadata": {
    "id": "9HZChUyC09tJ"
   },
   "source": [
    "# TODO Use Functional Python\n"
   ]
  },
  {
   "cell_type": "markdown",
   "metadata": {
    "id": "j7vG1XqY1CaV"
   },
   "source": [
    "You are encouraged to use the [anytree](https://pypi.org/project/anytree) Python library, which has a nice exporter by way of which you can graphically view trees. (You may recall using this in DM1, and thus know that **anytree** depends on [graphviz](https://graphviz.org), which you also used.)\n",
    "\n",
    "This library uses the object-oriented features of Python to create and visualize trees. You are encouraged to use the functional features of Python as much as possible, achieving your results not by using some existing third-party libraries for building Huffman Trees and Codes, but writing your own code as cleanly and elegantly as you can."
   ]
  },
  {
   "cell_type": "code",
   "execution_count": 24,
   "metadata": {},
   "outputs": [],
   "source": [
    "def sort_dict(input_dict, values=True, extra_sort=True, reverse=False):\n",
    "    '''Sorts a dictionary'''\n",
    "    if values:\n",
    "        temp_dict = dict(sorted(input_dict.items(), key=lambda kv: (kv[1], kv[0]), reverse=reverse))\n",
    "        if extra_sort:\n",
    "            keys = list(temp_dict.keys())\n",
    "            return_dict = {}\n",
    "            i = 0\n",
    "            while i < len(keys):\n",
    "                if keys[i] != keys[-1]:\n",
    "                    if temp_dict[keys[i]] == temp_dict[keys[i + 1]] and len(keys[i]) > len(keys[i + 1]):\n",
    "                        temp = keys[i]\n",
    "                        keys[i] = keys[i + 1]\n",
    "                        keys[i + 1] = temp\n",
    "                        i = -1\n",
    "                i += 1\n",
    "            for i in keys:\n",
    "                return_dict[i] = temp_dict[i]\n",
    "\n",
    "            return return_dict\n",
    "\n",
    "        return temp_dict\n",
    "\n",
    "    return dict([(key, input_dict[key]) for key in sorted(input_dict, reverse=reverse)])\n",
    "\n",
    "\n",
    "def huffman_sort(input_dict, printOut=False):\n",
    "    '''Prints Out the Huffman Sort of a Dictionary'''\n",
    "\n",
    "    for key in list(input_dict.keys()):\n",
    "        if type(key) != str:\n",
    "            input_dict[str(key)] = input_dict.pop(key)\n",
    "\n",
    "    sorted_dict = sort_dict(input_dict, True)\n",
    "    sorted_list = []\n",
    "    sorted_list.append(sorted_dict.copy())\n",
    "    keys = list(sorted_dict.keys())\n",
    "\n",
    "    if printOut:\n",
    "        print('-----------------------------------------------------------------------------------')\n",
    "        print(f'|{\"Character\":^40}|{\"Frequency\":^40}|')\n",
    "        print('-----------------------------------------------------------------------------------')\n",
    "        for i in keys:\n",
    "            print(f'|{i:^40}|{sorted_dict[i]:^40}|')\n",
    "            print('-----------------------------------------------------------------------------------')\n",
    "\n",
    "    while len(keys) > 1:\n",
    "        sorted_dict[keys[0] + keys[1]] = sorted_dict[keys[0]] + sorted_dict[keys[1]]\n",
    "        [sorted_dict.pop(rm_key) for rm_key in [keys[0], keys[1]]]\n",
    "        sorted_dict = sort_dict(sorted_dict, True)\n",
    "        sorted_list.append(sorted_dict.copy())\n",
    "        keys = list(sorted_dict.keys())\n",
    "        if printOut:\n",
    "            print('-----------------------------------------------------------------------------------')\n",
    "            print(f'|{\"Character\":^40}|{\"Frequency\":^40}|')\n",
    "            print('-----------------------------------------------------------------------------------')\n",
    "            for i in keys:\n",
    "                print(f'|{i:^40}|{sorted_dict[i]:^40}|')\n",
    "                print('-----------------------------------------------------------------------------------')\n",
    "    return sorted_list\n",
    "\n",
    "\n",
    "def printHuffmanTreeRows(sortList):\n",
    "    '''Prints out the rows in order for a Huffman Tree'''\n",
    "    # I believe that if we have an outside check that shows:\n",
    "    #     In every row except the first, the first two items are the children\n",
    "    #     of the first item in the preceeding row. The next two items are the\n",
    "    #     children of the second item in the preceeding row and so on.\n",
    "    #     Maybe something like... for j in range(0,2i) in currentRow:\n",
    "    #                                 parent = previousRow[i]\n",
    "    if len(str(sortList[0])) > len(str(sortList[-1])):\n",
    "        sortList.reverse()\n",
    "    skipCounter = 0\n",
    "    skipAmount = 1\n",
    "    rowList = []\n",
    "    removeList = []\n",
    "    allKeys = sortList[-1].keys()\n",
    "    for i in range(len(sortList)):\n",
    "        if skipCounter % skipAmount == 0:\n",
    "            skipAmount = 0\n",
    "            skipCounter = 1\n",
    "            rowList = []\n",
    "            for key in sortList[i].keys():\n",
    "                if key not in allKeys:\n",
    "                    skipAmount += 1\n",
    "                    rowList.append({key, sortList[i][key]})\n",
    "                elif {key, sortList[i][key]} not in removeList:\n",
    "                    rowList.append({key, sortList[i][key]})\n",
    "                    removeList.append({key, sortList[i][key]})\n",
    "            print(str(rowList).center(150))\n",
    "            print()\n",
    "        else:\n",
    "            skipCounter += 1"
   ]
  },
  {
   "cell_type": "code",
   "execution_count": 25,
   "metadata": {},
   "outputs": [],
   "source": [
    "from collections import Counter\n",
    "from pyprimesieve import primes\n",
    "\n",
    "list_of_gaps = []\n",
    "prev = 3\n",
    "\n",
    "for prime in list(primes(4, 179424674)):\n",
    "    gap = prime - prev\n",
    "    prev = prime\n",
    "    list_of_gaps.append(gap)\n",
    "count_of_gaps = Counter(list_of_gaps)\n",
    "for key in list(count_of_gaps.keys()):\n",
    "    if type(key) != str:\n",
    "        count_of_gaps[f'({key})'] = count_of_gaps.pop(key)\n",
    "sortList = huffman_sort(count_of_gaps)"
   ]
  },
  {
   "cell_type": "code",
   "execution_count": 26,
   "metadata": {},
   "outputs": [
    {
     "name": "stdout",
     "output_type": "stream",
     "text": [
      "[{'(12)(24)(40)(78)(86)(88)(90)(58)(66)(96)(116)(130)(168)(160)(162)(186)(192)(204)(172)(184)(210)(202)(188)(190)(194)(196)(220)(222)(144)(106)(98)(76)(110)(120)(100)(94)(126)(156)(148)(134)(122)(114)(74)(32)(54)(44)(14)(8)(34)(56)(62)(72)(64)(70)(52)(22)(18)(6)(42)(48)(38)(20)(10)(2)(4)(16)(30)(92)(102)(82)(84)(68)(104)(132)(140)(170)(158)(166)(174)(164)(154)(180)(176)(182)(198)(178)(124)(128)(142)(150)(112)(146)(152)(136)(138)(118)(108)(80)(50)(46)(60)(36)(26)(28)', 9999998}]\n",
      "\n",
      "[{'(12)(24)(40)(78)(86)(88)(90)(58)(66)(96)(116)(130)(168)(160)(162)(186)(192)(204)(172)(184)(210)(202)(188)(190)(194)(196)(220)(222)(144)(106)(98)(76)(110)(120)(100)(94)(126)(156)(148)(134)(122)(114)(74)(32)(54)(44)(14)(8)(34)(56)(62)(72)(64)(70)(52)(22)(18)', 4168814}, {5831184, '(6)(42)(48)(38)(20)(10)(2)(4)(16)(30)(92)(102)(82)(84)(68)(104)(132)(140)(170)(158)(166)(174)(164)(154)(180)(176)(182)(198)(178)(124)(128)(142)(150)(112)(146)(152)(136)(138)(118)(108)(80)(50)(46)(60)(36)(26)(28)'}]\n",
      "\n",
      "[{1855241, '(12)(24)(40)(78)(86)(88)(90)(58)(66)(96)(116)(130)(168)(160)(162)(186)(192)(204)(172)(184)(210)(202)(188)(190)(194)(196)(220)(222)(144)(106)(98)(76)(110)(120)(100)(94)(126)(156)(148)(134)(122)(114)(74)(32)(54)(44)'}, {2313573, '(14)(8)(34)(56)(62)(72)(64)(70)(52)(22)(18)'}, {2729946, '(6)(42)(48)(38)(20)(10)'}, {'(2)(4)(16)(30)(92)(102)(82)(84)(68)(104)(132)(140)(170)(158)(166)(174)(164)(154)(180)(176)(182)(198)(178)(124)(128)(142)(150)(112)(146)(152)(136)(138)(118)(108)(80)(50)(46)(60)(36)(26)(28)', 3101238}]\n",
      "\n",
      "[{'(12)', 920661}, {934580, '(24)(40)(78)(86)(88)(90)(58)(66)(96)(116)(130)(168)(160)(162)(186)(192)(204)(172)(184)(210)(202)(188)(190)(194)(196)(220)(222)(144)(106)(98)(76)(110)(120)(100)(94)(126)(156)(148)(134)(122)(114)(74)(32)(54)(44)'}, {'(14)(8)', 1069675}, {'(34)(56)(62)(72)(64)(70)(52)(22)(18)', 1243898}, {1297540, '(6)'}, {'(42)(48)(38)(20)(10)', 1432406}, {1477314, '(2)(4)'}, {1623924, '(16)(30)(92)(102)(82)(84)(68)(104)(132)(140)(170)(158)(166)(174)(164)(154)(180)(176)(182)(198)(178)(124)(128)(142)(150)(112)(146)(152)(136)(138)(118)(108)(80)(50)(46)(60)(36)(26)(28)'}]\n",
      "\n",
      "[{'(24)', 453215}, {'(40)(78)(86)(88)(90)(58)(66)(96)(116)(130)(168)(160)(162)(186)(192)(204)(172)(184)(210)(202)(188)(190)(194)(196)(220)(222)(144)(106)(98)(76)(110)(120)(100)(94)(126)(156)(148)(134)(122)(114)(74)(32)(54)(44)', 481365}, {'(14)', 503524}, {566151, '(8)'}, {576164, '(34)(56)(62)(72)(64)(70)(52)(22)'}, {'(18)', 667734}, {'(42)(48)(38)(20)', 702598}, {729808, '(10)'}, {738597, '(2)'}, {'(4)', 738717}, {'(16)(30)', 770390}, {'(92)(102)(82)(84)(68)(104)(132)(140)(170)(158)(166)(174)(164)(154)(180)(176)(182)(198)(178)(124)(128)(142)(150)(112)(146)(152)(136)(138)(118)(108)(80)(50)(46)(60)(36)(26)(28)', 853534}]\n",
      "\n",
      "[{'(40)(78)(86)(88)(90)(58)(66)(96)(116)(130)(168)(160)(162)(186)(192)(204)(172)(184)(210)(202)(188)(190)(194)(196)(220)(222)(144)(106)(98)(76)(110)(120)(100)(94)(126)(156)(148)(134)(122)(114)(74)', 229219}, {252146, '(32)(54)(44)'}, {'(34)(56)(62)(72)(64)(70)(52)', 268934}, {'(22)', 307230}, {'(42)(48)(38)', 348331}, {354267, '(20)'}, {'(16)', 371677}, {398713, '(30)'}, {413154, '(92)(102)(82)(84)(68)(104)(132)(140)(170)(158)(166)(174)(164)(154)(180)(176)(182)(198)(178)(124)(128)(142)(150)(112)(146)(152)(136)(138)(118)(108)(80)(50)(46)(60)(36)'}, {440380, '(26)(28)'}]\n",
      "\n",
      "[{111546, '(40)'}, {'(78)(86)(88)(90)(58)(66)(96)(116)(130)(168)(160)(162)(186)(192)(204)(172)(184)(210)(202)(188)(190)(194)(196)(220)(222)(144)(106)(98)(76)(110)(120)(100)(94)(126)(156)(148)(134)(122)(114)(74)', 117673}, {123123, '(32)'}, {'(54)(44)', 129023}, {129043, '(34)'}, {139891, '(56)(62)(72)(64)(70)(52)'}, {159956, '(42)'}, {'(48)(38)', 188375}, {206432, '(92)(102)(82)(84)(68)(104)(132)(140)(170)(158)(166)(174)(164)(154)(180)(176)(182)(198)(178)(124)(128)(142)(150)(112)(146)(152)(136)(138)(118)(108)(80)(50)(46)(60)'}, {'(36)', 206722}, {211203, '(26)'}, {229177, '(28)'}]\n",
      "\n",
      "[{55664, '(78)(86)(88)(90)(58)'}, {'(66)(96)(116)(130)(168)(160)(162)(186)(192)(204)(172)(184)(210)(202)(188)(190)(194)(196)(220)(222)(144)(106)(98)(76)(110)(120)(100)(94)(126)(156)(148)(134)(122)(114)(74)', 62009}, {'(54)', 64157}, {'(44)', 64866}, {66242, '(56)(62)(72)'}, {73649, '(64)(70)(52)'}, {'(48)', 93693}, {94682, '(38)'}, {'(92)(102)(82)(84)(68)(104)(132)(140)(170)(158)(166)(174)(164)(154)(180)(176)(182)(198)(178)(124)(128)(142)(150)(112)(146)(152)(136)(138)(118)(108)(80)(50)', 96196}, {'(46)(60)', 110236}]\n",
      "\n",
      "[{27679, '(78)(86)(88)(90)'}, {27985, '(58)'}, {30960, '(66)'}, {31049, '(96)(116)(130)(168)(160)(162)(186)(192)(204)(172)(184)(210)(202)(188)(190)(194)(196)(220)(222)(144)(106)(98)(76)(110)(120)(100)(94)(126)(156)(148)(134)(122)(114)(74)'}, {32224, '(56)'}, {'(62)(72)', 34018}, {34849, '(64)(70)'}, {38800, '(52)'}, {44013, '(92)(102)(82)(84)(68)(104)(132)(140)(170)(158)(166)(174)(164)(154)(180)(176)(182)(198)(178)(124)(128)(142)(150)(112)(146)(152)(136)(138)(118)(108)(80)'}, {'(50)', 52183}, {'(46)', 54931}, {55305, '(60)'}]\n",
      "\n",
      "[{'(78)', 13758}, {13921, '(86)(88)(90)'}, {'(96)(116)(130)(168)(160)(162)(186)(192)(204)(172)(184)(210)(202)(188)(190)(194)(196)(220)(222)(144)(106)(98)(76)', 14442}, {'(110)(120)(100)(94)(126)(156)(148)(134)(122)(114)(74)', 16607}, {16763, '(62)'}, {'(72)', 17255}, {'(64)', 17374}, {'(70)', 17475}, {19242, '(92)(102)(82)(84)'}, {'(68)(104)(132)(140)(170)(158)(166)(174)(164)(154)(180)(176)(182)(198)(178)(124)(128)(142)(150)(112)(146)(152)(136)(138)(118)(108)(80)', 24771}]\n",
      "\n",
      "[{6865, '(86)(88)'}, {7056, '(90)'}, {7189, '(96)(116)(130)(168)(160)(162)(186)(192)(204)(172)(184)(210)(202)(188)(190)(194)(196)(220)(222)(144)(106)(98)'}, {'(76)', 7253}, {'(110)(120)(100)(94)(126)(156)(148)(134)(122)(114)', 8067}, {8540, '(74)'}, {'(92)(102)(82)', 9424}, {'(84)', 9818}, {12368, '(68)'}, {'(104)(132)(140)(170)(158)(166)(174)(164)(154)(180)(176)(182)(198)(178)(124)(128)(142)(150)(112)(146)(152)(136)(138)(118)(108)(80)', 12403}]\n",
      "\n",
      "[{3411, '(86)'}, {3454, '(88)'}, {3544, '(96)'}, {'(116)(130)(168)(160)(162)(186)(192)(204)(172)(184)(210)(202)(188)(190)(194)(196)(220)(222)(144)(106)(98)', 3645}, {3812, '(110)(120)(100)'}, {'(94)(126)(156)(148)(134)(122)(114)', 4255}, {'(92)(102)', 4633}, {'(82)', 4791}, {5643, '(104)(132)(140)(170)(158)(166)(174)(164)(154)(180)(176)(182)(198)(178)(124)(128)(142)(150)(112)(146)(152)(136)(138)(118)(108)'}, {6760, '(80)'}]\n",
      "\n",
      "[{'(116)(130)(168)(160)(162)(186)(192)(204)(172)(184)(210)(202)(188)(190)(194)(196)(220)(222)(144)(106)', 1814}, {'(98)', 1831}, {1889, '(110)(120)'}, {1923, '(100)'}, {'(94)', 2058}, {'(126)(156)(148)(134)(122)(114)', 2197}, {2259, '(92)'}, {'(102)', 2374}, {2457, '(104)(132)(140)(170)(158)(166)(174)(164)(154)(180)(176)(182)(198)(178)(124)(128)(142)(150)'}, {'(112)(146)(152)(136)(138)(118)(108)', 3186}]\n",
      "\n",
      "[{881, '(116)(130)(168)(160)(162)(186)(192)(204)(172)(184)(210)(202)(188)(190)(194)(196)(220)(222)(144)'}, {'(106)', 933}, {'(110)', 941}, {948, '(120)'}, {1072, '(126)(156)(148)(134)(122)'}, {1125, '(114)'}, {1168, '(104)'}, {1289, '(132)(140)(170)(158)(166)(174)(164)(154)(180)(176)(182)(198)(178)(124)(128)(142)(150)'}, {'(112)(146)(152)(136)(138)(118)', 1552}, {'(108)', 1634}]\n",
      "\n",
      "[{'(116)', 439}, {442, '(130)(168)(160)(162)(186)(192)(204)(172)(184)(210)(202)(188)(190)(194)(196)(220)(222)(144)'}, {'(126)', 533}, {'(156)(148)(134)(122)', 539}, {'(132)(140)(170)(158)(166)(174)(164)(154)(180)(176)(182)(198)(178)', 604}, {'(124)(128)(142)(150)', 685}, {'(112)', 711}, {841, '(146)(152)(136)(138)(118)'}]\n",
      "\n",
      "[{'(130)', 211}, {'(168)(160)(162)(186)(192)(204)(172)(184)(210)(202)(188)(190)(194)(196)(220)(222)(144)', 231}, {'(156)(148)(134)', 252}, {'(122)', 287}, {301, '(132)'}, {303, '(140)(170)(158)(166)(174)(164)(154)(180)(176)(182)(198)(178)'}, {318, '(124)'}, {'(128)(142)(150)', 367}, {'(146)(152)(136)(138)', 408}, {433, '(118)'}]\n",
      "\n",
      "[{'(168)(160)(162)(186)(192)(204)(172)(184)(210)(202)(188)(190)(194)(196)(220)(222)', 108}, {123, '(144)'}, {'(156)(148)', 124}, {128, '(134)'}, {140, '(140)'}, {'(170)(158)(166)(174)(164)(154)(180)(176)(182)(198)(178)', 163}, {'(128)', 183}, {'(142)(150)', 184}, {'(146)(152)(136)', 198}, {'(138)', 210}]\n",
      "\n",
      "[{52, '(168)(160)'}, {56, '(162)(186)(192)(204)(172)(184)(210)(202)(188)(190)(194)(196)(220)(222)'}, {57, '(156)'}, {67, '(148)'}, {'(170)(158)(166)(174)(164)', 76}, {'(154)(180)(176)(182)(198)(178)', 87}, {'(142)', 90}, {'(150)', 94}, {98, '(146)(152)'}, {100, '(136)'}]\n",
      "\n",
      "[{25, '(168)'}, {'(160)', 27}, {'(162)', 27}, {29, '(186)(192)(204)(172)(184)(210)(202)(188)(190)(194)(196)(220)(222)'}, {'(170)(158)', 37}, {'(166)(174)(164)', 39}, {'(154)', 43}, {'(180)(176)(182)(198)(178)', 44}, {46, '(146)'}, {'(152)', 52}]\n",
      "\n",
      "[{'(186)(192)(204)(172)', 13}, {16, '(184)(210)(202)(188)(190)(194)(196)(220)(222)'}, {18, '(170)'}, {19, '(158)'}, {'(166)(174)', 19}, {'(164)', 20}, {'(180)(176)', 21}, {'(182)(198)(178)', 23}]\n",
      "\n",
      "[{'(186)(192)', 6}, {'(204)(172)', 7}, {8, '(184)(210)'}, {8, '(202)(188)(190)(194)(196)(220)(222)'}, {9, '(166)'}, {10, '(174)'}, {10, '(180)'}, {11, '(176)'}, {11, '(182)(198)'}, {12, '(178)'}]\n",
      "\n",
      "[{3, '(186)'}, {3, '(192)'}, {'(204)', 3}, {4, '(172)'}, {4, '(184)'}, {'(210)', 4}, {'(202)(188)(190)', 4}, {4, '(194)(196)(220)(222)'}, {'(182)', 5}, {'(198)', 6}]\n",
      "\n",
      "                                       [{'(202)', 2}, {2, '(188)(190)'}, {'(194)(196)', 2}, {'(220)(222)', 2}]                                        \n",
      "\n",
      "                                 [{1, '(188)'}, {1, '(190)'}, {1, '(194)'}, {1, '(196)'}, {1, '(220)'}, {1, '(222)'}]                                 \n",
      "\n"
     ]
    }
   ],
   "source": [
    "printHuffmanTreeRows(sortList)"
   ]
  },
  {
   "cell_type": "markdown",
   "metadata": {
    "id": "TUB4mD8u1DCa"
   },
   "source": [
    "# TODO Achieve Target Compression Ratios"
   ]
  },
  {
   "cell_type": "markdown",
   "metadata": {
    "id": "8Vw71EqJ18eE"
   },
   "source": [
    "Your solution should correctly compute the following three compression ratios:\n",
    "\n",
    "| Ratio       | Value              |\n",
    "|-------------|--------------------|\n",
    "| From fixed  |    19.073486328125 |\n",
    "| From binary |   47.6837158203125 |\n",
    "| From ASCII  |    95.367431640625 | \n"
   ]
  },
  {
   "cell_type": "markdown",
   "metadata": {
    "id": "81dbKwHenxnT"
   },
   "source": [
    "# TODO My Report on What I Did and What I Learned"
   ]
  },
  {
   "cell_type": "markdown",
   "metadata": {
    "id": "C8BeiIern33B"
   },
   "source": [
    "## Fun\n"
   ]
  },
  {
   "cell_type": "markdown",
   "metadata": {
    "id": "ElukRLoezyxd"
   },
   "source": [
    "Replace these words with your own detailing how you had fun (if you did)."
   ]
  },
  {
   "cell_type": "markdown",
   "metadata": {
    "id": "OzOkZ3son-u9"
   },
   "source": [
    "## New"
   ]
  },
  {
   "cell_type": "markdown",
   "metadata": {
    "id": "3-nYIdEUz4x5"
   },
   "source": [
    "Replace these words with your own detailing what was something new you learned (if anything)."
   ]
  },
  {
   "cell_type": "markdown",
   "metadata": {
    "id": "mJHvoj6GokaZ"
   },
   "source": [
    "## Meaningful\n"
   ]
  },
  {
   "cell_type": "markdown",
   "metadata": {
    "id": "XOxh3XFTz-6N"
   },
   "source": [
    "Replace these words with your own detailing what you achieved that was meaningful or that you can build upon."
   ]
  },
  {
   "cell_type": "markdown",
   "metadata": {
    "id": "_RBE03fhpNUG"
   },
   "source": [
    "## Other"
   ]
  },
  {
   "cell_type": "markdown",
   "metadata": {
    "id": "d-sXEeq60C3W"
   },
   "source": [
    "Replace this section and these words with your own describing other topics or sections of your report --- Connections, Collaborator Contributions, or anything else you feel impressed to add."
   ]
  },
  {
   "cell_type": "markdown",
   "metadata": {
    "id": "Nrk-8EmgW4NP"
   },
   "source": [
    "# TODO What is True?\n",
    "Click on each warranted checkbox to toggle it to True (or back to False). \n",
    "\n",
    "NOTE: *This only works in Colab. If you run it in some other Jupyter notebook client/server environment you may have to change False to True (or vice versa) manually.*\n",
    "\n",
    "This self-assessment is subject to revision by a grader."
   ]
  },
  {
   "cell_type": "code",
   "execution_count": 18,
   "metadata": {
    "id": "qGAjzgVRXR4M"
   },
   "outputs": [],
   "source": [
    "#@markdown ## What is True about what I did?\n",
    "#@markdown ### I had fun.\n",
    "cb00 = False #@param {type:'boolean'}\n",
    "#@markdown ### I learned something new.\n",
    "cb01 = False #@param {type:'boolean'}\n",
    "#@markdown ### I achieved something meaningful, or something I can build upon at a later time.\n",
    "cb02 = False #@param {type:'boolean'}\n",
    "#@markdown ## What is True about my report?\n",
    "#@markdown ### I wrote a sufficient number of well-written sentences.\n",
    "cb03 = False #@param {type:'boolean'}\n",
    "#@markdown ### My report is free of mechanical infelicities.\n",
    "cb04 = False #@param {type:'boolean'}\n",
    "#@markdown ### I used Grammarly (or something better described in my report) to check for MIs.\n",
    "cb05 = False #@param {type:'boolean'}\n",
    "#@markdown ### I reported on any connections I found between these problems and something I already know. \n",
    "cb06 = False #@param {type:'boolean'}\n",
    "#@markdown ### I reported who were and what contribution each of my collaborators made.\n",
    "cb07 = False #@param {type:'boolean'}\n",
    "#@markdown ## What is True about my calculations?\n",
    "#@markdown ### I correctly calculated the number of times each gap size occurs. \n",
    "cb08 = False #@param {type:'boolean'}\n",
    "#@markdown ### I correctly calculated the number of bits per gap size with a fixed encoding.\n",
    "cb09 = False #@param {type:'boolean'}\n",
    "#@markdown ### I correctly calculated the total number of bits encoded with the Huffman encoding.\n",
    "cb10 = False #@param {type:'boolean'}\n",
    "#@markdown ### I correctly calculated the total number of bits encoded with the fixed encoding.\n",
    "cb11 = False #@param {type:'boolean'}\n",
    "#@markdown ### I correctly calculated the compression ratio from this fixed encoding.\n",
    "cb12 = False #@param {type:'boolean'}\n",
    "#@markdown ### I correctly calculated the size of the first ten million primes encoded as 32-bit integer binary data.\n",
    "cb13 = False #@param {type:'boolean'}\n",
    "#@markdown ### I correctly calculated the compression ratio from the binary size.\n",
    "cb14 = False #@param {type:'boolean'}\n",
    "#@markdown ### I correctly calculated the size of the first ten million primes encoded as ASCII data.\n",
    "cb15 = False #@param {type:'boolean'}\n",
    "#@markdown ### I correctly calculated the compression ratio from the ASCII size (just the primes, nothing else).\n",
    "cb16 = False #@param {type:'boolean'}"
   ]
  },
  {
   "cell_type": "markdown",
   "metadata": {
    "id": "q8KESLBANSkC"
   },
   "source": [
    "## DO NOT CHANGE ANYTHING IN THE NEXT CODE CELL!!\n",
    "### Delete this cell and the following ones before submitting your work."
   ]
  },
  {
   "cell_type": "code",
   "execution_count": null,
   "metadata": {
    "id": "rJ_vaL0DWwoc"
   },
   "outputs": [],
   "source": [
    "points_for_what_I_did = [5]*3\n",
    "points_for_my_report = [8]*5\n",
    "points_for_my_calculations = [5]*9\n",
    "points = points_for_what_I_did + points_for_my_report + points_for_my_calculations\n",
    "# cb is short for checkbox\n",
    "total = sum(map(lambda n, p: p if eval(f'cb{n:02}') else 0,\n",
    "                range(len(points)), points))             \n",
    "total"
   ]
  },
  {
   "cell_type": "markdown",
   "metadata": {
    "id": "muxeYgQQKGEU"
   },
   "source": [
    "# For graders"
   ]
  },
  {
   "cell_type": "code",
   "execution_count": null,
   "metadata": {
    "id": "c0ldoieNKMTU"
   },
   "outputs": [],
   "source": [
    "#@markdown ---\n",
    "number_of_MIs_found = 0 #@param {type: 'slider', min: 0, max: 5}\n",
    "#@markdown ---\n"
   ]
  }
 ],
 "metadata": {
  "colab": {
   "include_colab_link": true,
   "name": "09_2_Ponder_and_Prove_Data_Compression.ipynb",
   "provenance": []
  },
  "kernelspec": {
   "display_name": "Python 3",
   "language": "python",
   "name": "python3"
  },
  "language_info": {
   "codemirror_mode": {
    "name": "ipython",
    "version": 3
   },
   "file_extension": ".py",
   "mimetype": "text/x-python",
   "name": "python",
   "nbconvert_exporter": "python",
   "pygments_lexer": "ipython3",
   "version": "3.8.7"
  }
 },
 "nbformat": 4,
 "nbformat_minor": 4
}
