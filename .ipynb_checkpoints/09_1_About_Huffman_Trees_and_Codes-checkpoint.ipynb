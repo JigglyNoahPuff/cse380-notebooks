{
 "cells": [
  {
   "cell_type": "markdown",
   "metadata": {
    "colab_type": "text",
    "id": "view-in-github"
   },
   "source": [
    "<a href=\"https://colab.research.google.com/github/byui-cse/cse380-notebooks/blob/master/09_1_About_Huffman_Trees_and_Codes.ipynb\" target=\"_parent\"><img src=\"https://colab.research.google.com/assets/colab-badge.svg\" alt=\"Open In Colab\"/></a>"
   ]
  },
  {
   "cell_type": "markdown",
   "metadata": {
    "id": "VPy5vbgRQBMQ"
   },
   "source": [
    "# About Huffman Trees and Codes\n",
    "## Divide Pair Conquer\n",
    "### Due: Monday, 1 March 2021, 11:59 pm"
   ]
  },
  {
   "cell_type": "markdown",
   "metadata": {
    "id": "sgaSqpkyQMwl"
   },
   "source": [
    "## Goal"
   ]
  },
  {
   "cell_type": "markdown",
   "metadata": {
    "id": "_YpNGyjWQbVx"
   },
   "source": [
    "Review Huffman Trees and Codes from DM1 to get ready for your Ponder and Prove assignment."
   ]
  },
  {
   "cell_type": "code",
   "execution_count": 14,
   "metadata": {
    "id": "7C-ClNTHQkFw"
   },
   "outputs": [
    {
     "name": "stdout",
     "output_type": "stream",
     "text": [
      "thebookofmormon --> Counter({'o': 5, 'm': 2, 't': 1, 'h': 1, 'e': 1, 'b': 1, 'k': 1, 'f': 1, 'r': 1, 'n': 1})\n",
      "therestoration --> Counter({'t': 3, 'e': 2, 'r': 2, 'o': 2, 'h': 1, 's': 1, 'a': 1, 'i': 1, 'n': 1})\n"
     ]
    }
   ],
   "source": [
    "from math import ceil, log\n",
    "from collections import Counter\n",
    "\n",
    "def show_results(message, code_tuples):\n",
    "  total_characters = len(message)\n",
    "  total_unique_characters = len(code_tuples)\n",
    "  total_bits = 0\n",
    "  for char, count, code in code_tuples:\n",
    "    total_bits += count * len(code)\n",
    "  average_bits_per_character = total_bits / total_characters\n",
    "  fixed_bits_per_character = ceil(log(total_unique_characters, 2))\n",
    "  total_fixed_bits = total_characters * fixed_bits_per_character\n",
    "  compression_ratio = (total_fixed_bits - total_bits) / total_fixed_bits\n",
    "  print(f'          Total Characters: {total_characters}')\n",
    "  print(f'   Total Unique Characters: {total_unique_characters}')\n",
    "  print(f'                Total Bits: {total_bits}')\n",
    "  print(f'Average Bits per Character: {average_bits_per_character:.2f}')\n",
    "  print(f'  Fixed Bits per Character: {fixed_bits_per_character}')\n",
    "  print(f'          Total Fixed Bits: {total_fixed_bits}')\n",
    "  print(f'         Compression Ratio: {compression_ratio:.3f}')\n",
    "\n",
    "message1 = 'thebookofmormon'\n",
    "counter1 = Counter(message1)\n",
    "\n",
    "print(message1, '-->', counter1)\n",
    "\n",
    "message2 = 'therestoration'\n",
    "\n",
    "counter2 = Counter(message2)\n",
    "\n",
    "print(message2, '-->', counter2)"
   ]
  },
  {
   "cell_type": "markdown",
   "metadata": {
    "id": "YnsvrdQkRZIP"
   },
   "source": [
    "### Which message has the lower compression ratio?"
   ]
  },
  {
   "cell_type": "markdown",
   "metadata": {
    "id": "ZQZ9qfo-RgDB"
   },
   "source": [
    "#### Message 1"
   ]
  },
  {
   "cell_type": "markdown",
   "metadata": {
    "id": "66pMEoO_Rkb3"
   },
   "source": [
    "Do all the steps, like the examples in the book, first sorting the counted occurrences:\n",
    "\n",
    "| Char | # |\n",
    "|------|---|\n",
    "|   b  | 1 |\n",
    "|   e  | 1 |\n",
    "|   f  | 1 |\n",
    "|   h  | 1 |\n",
    "|   k  | 1 |\n",
    "|   n  | 1 |\n",
    "|   r  | 1 |\n",
    "|   t  | 1 |\n",
    "|   m  | 2 |\n",
    "|   o  | 5 |"
   ]
  },
  {
   "cell_type": "markdown",
   "metadata": {
    "id": "Sf-Wc2SvSMvh"
   },
   "source": [
    "##### The ever-shrinking queue:"
   ]
  },
  {
   "cell_type": "markdown",
   "metadata": {
    "id": "1NVAHiTySQUZ"
   },
   "source": [
    "* b1 e1 f1 h1 k1 n1 r1 t1 m2 o5\n",
    "* f1 h1 k1 n1 r1 t1 m2 be2 o5\n",
    "* k1 n1 r1 t1 m2 be2 fh2 o5\n",
    "* r1 t1 m2 be2 fh2 kn2 o5\n",
    "* m2 be2 fh2 kn2 rt2 o5\n",
    "* fh2 kn2 rt2 mbe4 o5\n",
    "* rt2 meb4 fhkn4 o5\n",
    "* fhkn4 o5 rtmeb6\n",
    "* rtmbe6 fhkno9\n",
    "* rtmbefhkno15"
   ]
  },
  {
   "cell_type": "markdown",
   "metadata": {
    "id": "FQ542b55SnRo"
   },
   "source": [
    "##### The Huffman Tree:"
   ]
  },
  {
   "cell_type": "code",
   "execution_count": null,
   "metadata": {
    "id": "JEatqgo2S2GS"
   },
   "outputs": [],
   "source": [
    "'''\n",
    "       rtmbefhkno15\n",
    "         /        \\\n",
    "     rtmbe6      fhkno9\n",
    "     /   \\        /    \\\n",
    "  rt2   mbe4   fhkn4   o5\n",
    "  /\\    / \\     /   \\\n",
    "r1 t1 m2 be2  fh2   kn2\n",
    "         / \\  / \\   / \\\n",
    "       b1 e1 f1 h1 k1 n1\n",
    "'''"
   ]
  },
  {
   "cell_type": "markdown",
   "metadata": {
    "id": "Zz3k9BfdSqMh"
   },
   "source": [
    "##### The Code Tuples"
   ]
  },
  {
   "cell_type": "markdown",
   "metadata": {
    "id": "k8NwLvJzTzOd"
   },
   "source": [
    "Read the codes from the tree:"
   ]
  },
  {
   "cell_type": "code",
   "execution_count": 13,
   "metadata": {
    "colab": {
     "base_uri": "https://localhost:8080/"
    },
    "id": "7dT6TB3MS7wY",
    "outputId": "c549846d-a912-48bb-b7e0-b5730cea5f49"
   },
   "outputs": [
    {
     "name": "stdout",
     "output_type": "stream",
     "text": [
      "          Total Characters: 15\n",
      "   Total Unique Characters: 10\n",
      "                Total Bits: 46\n",
      "Average Bits per Character: 3.07\n",
      "  Fixed Bits per Character: 4\n",
      "          Total Fixed Bits: 60\n",
      "         Compression Ratio: 0.233\n"
     ]
    }
   ],
   "source": [
    "message1_code_tuples = \\\n",
    "[('b', 1, '0110'),\n",
    " ('e', 1, '0111'),\n",
    " ('f', 1, '1000'),\n",
    " ('h', 1, '1001'),\n",
    " ('k', 1, '1010'),\n",
    " ('m', 2, '010'),\n",
    " ('n', 1, '1011'),\n",
    " ('o', 5, '11'),\n",
    " ('r', 1, '000'),\n",
    " ('t', 1, '001'),\n",
    "]\n",
    "\n",
    "show_results(message1, message1_code_tuples)"
   ]
  },
  {
   "cell_type": "markdown",
   "metadata": {
    "id": "EekOyNAyVbY3"
   },
   "source": [
    "#### Message 2"
   ]
  },
  {
   "cell_type": "markdown",
   "metadata": {
    "id": "5ktqJRmOVbY3"
   },
   "source": [
    "Do all the steps, like the examples in the book, first sorting the counted occurrences:\n",
    "\n",
    "| Char | # |\n",
    "|------|---|\n",
    "|   a  | 1 |\n",
    "|   h  | 1 |\n",
    "|   i  | 1 |\n",
    "|   n  | 1 |\n",
    "|   s  | 1 |\n",
    "|   e  | 2 |\n",
    "|   o  | 2 |\n",
    "|   r  | 2 |\n",
    "|   t  | 3 |"
   ]
  },
  {
   "cell_type": "markdown",
   "metadata": {
    "id": "BjOIgAZZVbY4"
   },
   "source": [
    "##### The ever-shrinking queue:"
   ]
  },
  {
   "cell_type": "markdown",
   "metadata": {
    "id": "LEVjSFE9VbY4"
   },
   "source": [
    "* a1 h1 i1 n1 s1 e2 o2 r2 t3\n",
    "* i1 n1 s1 e2 o2 r2 ah2 t3\n",
    "* s1 e2 o2 r2 ah2 in2 t3\n",
    "* o2 r2 ah2 in2 t3 se3\n",
    "* ah2 in2 t3 se3 or4\n",
    "* t3 se3 or4 ahin4\n",
    "* or4 ahin4 tse6\n",
    "* tse6 orahin8\n",
    "* tseorahin14"
   ]
  },
  {
   "cell_type": "markdown",
   "metadata": {
    "id": "ZeozgfOLVbY4"
   },
   "source": [
    "##### The Huffman Tree:"
   ]
  },
  {
   "cell_type": "code",
   "execution_count": null,
   "metadata": {
    "id": "-2FB2vHtVbY4"
   },
   "outputs": [],
   "source": [
    "'''\n",
    "    tseorahin14\n",
    "    /        \\\n",
    " tse6     orahin8\n",
    "  / \\      /    \\\n",
    "t3 se3   or4   ahin4\n",
    "   / \\   / \\    /   \\\n",
    "  s1 e2 o2 r2 ah2   in2\n",
    "              / \\   / \\\n",
    "             a1 h1 i1 n1\n",
    "'''"
   ]
  },
  {
   "cell_type": "markdown",
   "metadata": {
    "id": "Weh87t4iVbY6"
   },
   "source": [
    "##### The Code Tuples"
   ]
  },
  {
   "cell_type": "markdown",
   "metadata": {
    "id": "-uihVyZuVbY6"
   },
   "source": [
    "Read the codes from the tree:"
   ]
  },
  {
   "cell_type": "code",
   "execution_count": 2,
   "metadata": {
    "id": "3J20ht-dVbY6"
   },
   "outputs": [
    {
     "name": "stdout",
     "output_type": "stream",
     "text": [
      "          Total Characters: 14\n",
      "   Total Unique Characters: 9\n",
      "                Total Bits: 43\n",
      "Average Bits per Character: 3.07\n",
      "  Fixed Bits per Character: 4\n",
      "          Total Fixed Bits: 56\n",
      "         Compression Ratio: 0.232\n"
     ]
    }
   ],
   "source": [
    "message2_code_tuples = \\\n",
    "[('a', 1, '1100'),\n",
    " ('e', 2, '011'),\n",
    " ('h', 1, '1101'),\n",
    " ('i', 1, '1110'),\n",
    " ('n', 1, '1111'),\n",
    " ('o', 2, '100'),\n",
    " ('r', 2, '101'),\n",
    " ('s', 1, '010'),\n",
    " ('t', 3, '00'),\n",
    "]\n",
    "\n",
    "show_results(message2, message2_code_tuples)"
   ]
  },
  {
   "cell_type": "markdown",
   "metadata": {
    "id": "iNVsz1Pixjxg"
   },
   "source": [
    "### TODO Create Data Tree and Code"
   ]
  },
  {
   "cell_type": "markdown",
   "metadata": {
    "id": "5HGwfaArxmyg"
   },
   "source": [
    "More warmup for your Ponder and Prove assignment this week:\n",
    "\n",
    "Create a Huffman Tree and codes for the gaps between the first few prime (except for the gap of size 1 between 2 and 3). Your goal is to find how many is \"few\" enough to have a compression ratio **better than 24%**.\n"
   ]
  },
  {
   "cell_type": "markdown",
   "metadata": {},
   "source": [
    "### Functions I made"
   ]
  },
  {
   "cell_type": "code",
   "execution_count": 50,
   "metadata": {},
   "outputs": [],
   "source": [
    "def sort_dict(input_dict, values=False, reverse=False):\n",
    "    '''Sorts a dictionary'''\n",
    "    if values:\n",
    "        return dict(sorted(input_dict.items(), key=lambda kv: (kv[1], kv[0]), reverse=reverse))\n",
    "    return dict([(key, input_dict[key]) for key in sorted(input_dict, reverse=reverse)])\n",
    "\n",
    "\n",
    "def huffman_sort(input_dict, printOut=False):\n",
    "    '''Prints Out the Huffman Sort of a Dictionary'''\n",
    "    sorted_dict = sort_dict(input_dict, True)\n",
    "    sorted_list = []\n",
    "    sorted_list.append(sorted_dict.copy())\n",
    "\n",
    "    if printOut:\n",
    "        print('-------------------------------------------')\n",
    "        print(f'|{\"Character\":^20}|{\"Frequency\":^20}|')\n",
    "        print('-------------------------------------------')\n",
    "        for i in sorted_dict.keys():\n",
    "            print(f'|{i:^20}|{sorted_dict[i]:^20}|')\n",
    "            print('-------------------------------------------')\n",
    "    \n",
    "    keys = list(sorted_dict.keys())\n",
    "    while len(keys) > 1:\n",
    "        sorted_dict[keys[0] + keys[1]] = sorted_dict[keys[0]] + sorted_dict[keys[1]]\n",
    "        rm_list = [sorted_dict.pop(rm_key) for rm_key in [keys[0], keys[1]]]\n",
    "        sorted_dict = sort_dict(sorted_dict, True)\n",
    "        sorted_list.append(sorted_dict.copy())\n",
    "        keys = list(sorted_dict.keys())\n",
    "        if printOut:\n",
    "            print('-------------------------------------------')\n",
    "            print(f'|{\"Character\":^20}|{\"Frequency\":^20}|')\n",
    "            print('-------------------------------------------')\n",
    "            for i in keys:\n",
    "                print(f'|{i:^20}|{sorted_dict[i]:^20}|')\n",
    "                print('-------------------------------------------')\n",
    "    return sorted_list"
   ]
  },
  {
   "cell_type": "code",
   "execution_count": 58,
   "metadata": {
    "colab": {
     "base_uri": "https://localhost:8080/"
    },
    "id": "7TBjHxPqx9WI",
    "outputId": "adf1269c-93da-47b4-c802-8f8cb124cab6"
   },
   "outputs": [
    {
     "name": "stdout",
     "output_type": "stream",
     "text": [
      "               {'(8)(4)(6)(2)': 23}               \n",
      "           {'(8)(4)': 8, '(6)(2)': 15}            \n",
      "        {'(6)': 7, '(2)': 8, '(8)(4)': 8}         \n",
      "     {'(8)': 1, '(4)': 7, '(6)': 7, '(2)': 8}     \n"
     ]
    }
   ],
   "source": [
    "from sympy import primerange\n",
    "\n",
    "list_of_gaps = []\n",
    "count_of_gaps = {}\n",
    "prev = 3\n",
    "gap = 0\n",
    "for prime in list(primerange(4, 101)):\n",
    "    gap = prime - prev\n",
    "    #print(gap)\n",
    "    prev = prime\n",
    "    list_of_gaps.append(gap)\n",
    "    if f'({gap})' in count_of_gaps.keys(): count_of_gaps[f'({gap})'] += 1\n",
    "    else: count_of_gaps[f'({gap})'] = 1\n",
    "\n",
    "sortedList = huffman_sort(count_of_gaps)\n",
    "sortedList.reverse()\n",
    "for i in sortedList:\n",
    "    print(f'{str(i):^50}')\n",
    "    print(f'{\"/\\\":^50}')"
   ]
  },
  {
   "cell_type": "code",
   "execution_count": 148,
   "metadata": {},
   "outputs": [
    {
     "name": "stdout",
     "output_type": "stream",
     "text": [
      "{2: 8, 4: 5, 1: 4, 6: 2, 3: 5, 7: 10, 8: 2}\n",
      "{6: 2, 8: 2, 1: 4, 3: 5, 4: 5, 2: 8, 7: 10}\n"
     ]
    }
   ],
   "source": [
    "td = {2:8, 4:5, 1:4, 6:2, 3:5, 7:10, 8:2}\n",
    "print(td)\n",
    "\n",
    "td = dict(sorted(td.items(),key=lambda kv: (kv[1], kv[0])))\n",
    "print(td)"
   ]
  }
 ],
 "metadata": {
  "colab": {
   "authorship_tag": "ABX9TyNYVKKcM6551Wvyp7aqsOho",
   "collapsed_sections": [],
   "include_colab_link": true,
   "name": "09_1_About_Huffman_Trees_and_Codes.ipynb",
   "provenance": []
  },
  "kernelspec": {
   "display_name": "Python 3",
   "language": "python",
   "name": "python3"
  },
  "language_info": {
   "codemirror_mode": {
    "name": "ipython",
    "version": 3
   },
   "file_extension": ".py",
   "mimetype": "text/x-python",
   "name": "python",
   "nbconvert_exporter": "python",
   "pygments_lexer": "ipython3",
   "version": "3.8.7"
  }
 },
 "nbformat": 4,
 "nbformat_minor": 4
}
