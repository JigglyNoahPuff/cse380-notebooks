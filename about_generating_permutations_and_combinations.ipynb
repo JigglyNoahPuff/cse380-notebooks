{
 "cells": [
  {
   "cell_type": "markdown",
   "metadata": {},
   "source": [
    "# About Generating Permutations and Combinations\n",
    "## Divide Pair Conquer\n",
    "### Due: Monday, 1 February 2021, 11:59pm\n"
   ]
  },
  {
   "cell_type": "markdown",
   "metadata": {},
   "source": [
    "There are many occasions when you need to *generate* the permutations or\n",
    "combinations of a set, not just count them.\n",
    "\n",
    "There are many algorithms for generating permutations and combinations --- you\n",
    "can find them if you look.\n",
    "\n",
    "For an application, from a biographical sketch about Donald Knuth by Kenneth\n",
    "Rosen, we learn that\n"
   ]
  },
  {
   "cell_type": "markdown",
   "metadata": {},
   "source": [
    "> \"Knuth grew up in Milwaukee, where his father taught bookkeeping at a Lutheran\n",
    "high school and owned a small printing business. He was an excellent student,\n",
    "earning academic achievement awards. He applied his intelligence in\n",
    "unconventional ways, winning a contest when he was in the eighth grade by\n",
    "finding as many words as possible that could be formed from the letters in\n",
    "\n",
    "---\n",
    "\n",
    "> **Ziegler's Giant Bar**.\n",
    "\n",
    "___\n",
    "\n",
    "> This won a television set for his school and a candy bar for everyone in his class.\n"
   ]
  },
  {
   "cell_type": "markdown",
   "metadata": {},
   "source": [
    "Knuth found over 4500 words. How many can **you** find?"
   ]
  },
  {
   "cell_type": "code",
   "execution_count": 37,
   "metadata": {},
   "outputs": [
    {
     "name": "stdout",
     "output_type": "stream",
     "text": [
      "[['z', 'i', 'e', 'g', 'l', 'e', 'r', 's', 'g', 'i', 'a', 'n', 't', 'b', 'a', 'r'], ['is', 'ii', 'in', 'it', 'ib', 'el', 'er', 'es', 'ea', 'en', 'et', 'ea', 'er', 'gl', 'gr', 'gs', 'gi', 'gt', 'gr', 'ls', 'lg', 'li', 'la', 'ln', 'lb', 'la', 'er', 'es', 'ea', 'en', 'et', 'ea', 'er', 'rs', 'rt', 'si', 'st', 'sb', 'gi', 'gt', 'gr', 'in', 'it', 'ib', 'an', 'at', 'ab', 'aa', 'ar', 'nr', 'tb', 'ta', 'tr', 'br', 'ar'], ['zig', 'zig', 'zit', 'zee', 'zen', 'zen', 'zit', 'ign', 'ign', 'int', 'egg', 'els', 'erg', 'era', 'ert', 'era', 'err', 'est', 'eat', 'ear', 'eta', 'ear', 'glt', 'ger', 'gen', 'get', 'ger', 'gin', 'git', 'gib', 'gan', 'gat', 'gab', 'gar', 'gar', 'leg', 'lei', 'lea', 'let', 'lea', 'lin', 'lit', 'lib', 'lat', 'lab', 'lar', 'lar', 'erg', 'era', 'ert', 'era', 'err', 'est', 'eat', 'ear', 'eta', 'ear', 'ria', 'rit', 'rib', 'ria', 'ran', 'rat', 'sin', 'sit', 'sib', 'sir', 'sat', 'str', 'gin', 'git', 'gib', 'gan', 'gat', 'gab', 'gar', 'gar', 'int', 'ant', 'ana', 'aba', 'abr', 'tar', 'bar'], ['zigs', 'zees', 'zest', 'zeta', 'zest', 'zeta', 'ilea', 'ilea', 'ilia', 'ilia', 'intr', 'elan', 'erst', 'glen', 'glia', 'glib', 'glia', 'gest', 'gean', 'gear', 'gent', 'gear', 'grin', 'grit', 'gran', 'grab', 'lest', 'lean', 'lent', 'liar', 'lint', 'liar', 'erst', 'rant', 'rata', 'star', 'intr', 'anta'], ['egest', 'glean', 'glint', 'grant', 'giant', 'legit', 'liana', 'riant', 'riata', 'sitar', 'giant'], ['egesta', 'elegit'], ['elegant'], [], [], [], [], [], [], [], []]\n"
     ]
    }
   ],
   "source": [
    "from itertools import combinations\n",
    "import enchant\n",
    "d = enchant.Dict(\"en_US\")\n",
    "\n",
    "True\n",
    "listComb = []\n",
    "stringComb = 'zieglersgiantbar'\n",
    "\n",
    "for i in range(1, len(stringComb)):\n",
    "    stringList = []\n",
    "    tupleList = list(combinations(stringComb, i))\n",
    "    for j in tupleList:\n",
    "        j = ''.join(j)\n",
    "        if d.check(j):\n",
    "            stringList.append(j)\n",
    "    listComb.append(stringList)\n",
    "\n",
    "print(listComb)\n",
    "#print(listComb)\n",
    "#list(combinations(stringComb, 3))"
   ]
  }
 ],
 "metadata": {
  "kernelspec": {
   "display_name": "Python 3",
   "language": "python",
   "name": "python3"
  },
  "language_info": {
   "codemirror_mode": {
    "name": "ipython",
    "version": 3
   },
   "file_extension": ".py",
   "mimetype": "text/x-python",
   "name": "python",
   "nbconvert_exporter": "python",
   "pygments_lexer": "ipython3",
   "version": "3.8.7"
  }
 },
 "nbformat": 4,
 "nbformat_minor": 4
}
