{
 "cells": [
  {
   "cell_type": "markdown",
   "metadata": {
    "colab_type": "text",
    "id": "view-in-github"
   },
   "source": [
    "<a href=\"https://colab.research.google.com/github/byui-cse/cse380-notebooks/blob/master/11_3_About_The_Petersen_Graph.ipynb\" target=\"_parent\"><img src=\"https://colab.research.google.com/assets/colab-badge.svg\" alt=\"Open In Colab\"/></a>"
   ]
  },
  {
   "cell_type": "markdown",
   "metadata": {
    "id": "0lYSr_8JNUpQ"
   },
   "source": [
    "# About The Petersen Graph\n",
    "## Class Directed Learning\n",
    "### Due: Tuesday, 16 March 2021, 11:59 pm"
   ]
  },
  {
   "cell_type": "markdown",
   "metadata": {
    "id": "0PuwZHqzNfTa"
   },
   "source": [
    "## TODO Explore and Wonder"
   ]
  },
  {
   "cell_type": "markdown",
   "metadata": {
    "id": "Gsu1FnbuNptP"
   },
   "source": [
    "The Petersen graph is described as the complement of the line graph of $K_5$.\n",
    "\n",
    "Draw each step of this construction using any graph-drawing tools in your toolbox.\n",
    "\n",
    "Teach one another how to use the tools you each have."
   ]
  }
 ],
 "metadata": {
  "colab": {
   "authorship_tag": "ABX9TyNAmHlPgKOYTC4XMSkz3cCR",
   "include_colab_link": true,
   "name": "11_3_About_The_Petersen_Graph.ipynb",
   "provenance": []
  },
  "kernelspec": {
   "display_name": "Python 3",
   "language": "python",
   "name": "python3"
  },
  "language_info": {
   "codemirror_mode": {
    "name": "ipython",
    "version": 3
   },
   "file_extension": ".py",
   "mimetype": "text/x-python",
   "name": "python",
   "nbconvert_exporter": "python",
   "pygments_lexer": "ipython3",
   "version": "3.8.7"
  }
 },
 "nbformat": 4,
 "nbformat_minor": 4
}
